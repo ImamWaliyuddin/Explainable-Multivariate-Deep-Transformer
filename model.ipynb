{
 "cells": [
  {
   "cell_type": "markdown",
   "metadata": {},
   "source": [
    "# Explainable Multivariate Deep Transformer for Stock Prediction"
   ]
  },
  {
   "cell_type": "markdown",
   "metadata": {},
   "source": [
    "# Library"
   ]
  },
  {
   "cell_type": "code",
   "execution_count": 1,
   "metadata": {},
   "outputs": [],
   "source": [
    "import torch\n",
    "from torch import nn, einsum\n",
    "import torch.optim as optim\n",
    "import torch.nn.functional as F\n",
    "import math\n",
    "from functools import partial\n",
    "import pandas as pd\n",
    "import numpy as np\n",
    "import cv2\n",
    "from sklearn.preprocessing import MinMaxScaler\n",
    "from sklearn.metrics import mean_squared_error, mean_absolute_error, mean_absolute_percentage_error\n",
    "import os\n",
    "import random\n",
    "from torch.autograd import Variable\n",
    "import time"
   ]
  },
  {
   "cell_type": "markdown",
   "metadata": {},
   "source": [
    "# Deep Transformer"
   ]
  },
  {
   "cell_type": "markdown",
   "metadata": {},
   "source": [
    "## Model"
   ]
  },
  {
   "cell_type": "markdown",
   "metadata": {},
   "source": [
    "### Full Attention"
   ]
  },
  {
   "cell_type": "code",
   "execution_count": 2,
   "metadata": {},
   "outputs": [],
   "source": [
    "def full_attention(query, key, value, causal=False, dropout=0.0):\n",
    "    device = key.device\n",
    "    B_k, h_k, n_k, d_k = key.shape\n",
    "    B_q, h_q, n_q, d_q = query.shape\n",
    "\n",
    "    scale = einsum(\"bhqd,bhkd->bhqk\", query, key)/math.sqrt(d_k)\n",
    "\n",
    "    if causal:\n",
    "        ones = torch.ones(B_k, h_k, n_q, n_k).to(device)\n",
    "        mask = torch.tril(ones)\n",
    "        scale = scale.masked_fill(mask == 0, -1e9)\n",
    "    atn = F.softmax(scale, dim=-1)\n",
    "    if dropout is not None:\n",
    "        atn = F.dropout(atn, p=dropout)   \n",
    "    out = einsum(\"bhqk,bhkd->bhqd\", atn, value)\n",
    "    return out"
   ]
  },
  {
   "cell_type": "code",
   "execution_count": 3,
   "metadata": {},
   "outputs": [],
   "source": [
    "def to_eachhead(x, head_num, split_num=3):\n",
    "    B, n, pre_d = x.shape\n",
    "    new_d = pre_d//split_num\n",
    "    assert pre_d%split_num == 0, f\"have to be multiple of {split_num}\"\n",
    "    assert new_d%head_num == 0, \"dim must be divided by head_num\"\n",
    "\n",
    "    tpl = torch.chunk(x, split_num, dim=2)\n",
    "    out = []\n",
    "    for t in tpl:\n",
    "        out.append(t.reshape(B, n, head_num, new_d//head_num).transpose(1,2))\n",
    "    return out"
   ]
  },
  {
   "cell_type": "code",
   "execution_count": 4,
   "metadata": {},
   "outputs": [],
   "source": [
    "def concat_head(x):\n",
    "    B, h, n, _d = x.shape\n",
    "    out = x.transpose(1,2).reshape(B, n, _d*h)\n",
    "    return out"
   ]
  },
  {
   "cell_type": "markdown",
   "metadata": {},
   "source": [
    "### Positional Encoding"
   ]
  },
  {
   "cell_type": "code",
   "execution_count": 5,
   "metadata": {},
   "outputs": [],
   "source": [
    "class PositionalEncoding(nn.Module):\n",
    "    def __init__(self, d_model: int, max_len: int = 100):\n",
    "        super().__init__()\n",
    "        position = torch.arange(max_len).unsqueeze(1)\n",
    "        div_term = torch.exp(torch.arange(0, d_model, 2) * (-math.log(10000.0) / d_model))\n",
    "        pe = torch.zeros(max_len, 1, d_model)\n",
    "        pe[:, 0, 0::2] = torch.sin(position * div_term)\n",
    "        pe[:, 0, 1::2] = torch.cos(position * div_term)\n",
    "        self.register_buffer('pe', pe.squeeze(1))\n",
    "\n",
    "    def forward(self, x: torch.Tensor) -> torch.Tensor:\n",
    "        x = x + self.pe[:x.size(1)]\n",
    "        return x"
   ]
  },
  {
   "cell_type": "markdown",
   "metadata": {},
   "source": [
    "### Pre-Layer"
   ]
  },
  {
   "cell_type": "code",
   "execution_count": 6,
   "metadata": {},
   "outputs": [],
   "source": [
    "class PreLayer(nn.Module):\n",
    "    def __init__(self, hid, d_model, drop_out=0.0, in_dim=1):\n",
    "        super().__init__()\n",
    "        self.linear1 = nn.Linear(in_dim, hid, bias=True)\n",
    "        self.relu = nn.ReLU()\n",
    "        self.linear2 = nn.Linear(hid, d_model, bias=True)\n",
    "    \n",
    "    def forward(self, x):\n",
    "        out_1 = self.linear1(x)\n",
    "        out = self.relu(out_1)\n",
    "        out = self.linear2(out)\n",
    "        return out, out_1"
   ]
  },
  {
   "cell_type": "markdown",
   "metadata": {},
   "source": [
    "### Post-Layer"
   ]
  },
  {
   "cell_type": "code",
   "execution_count": 7,
   "metadata": {},
   "outputs": [],
   "source": [
    "class PostLayer(nn.Module):\n",
    "    def __init__(self, d_model, vocab_num, hid, drop_out=0.0):\n",
    "        super().__init__()\n",
    "        self.linear1 = nn.Linear(d_model, hid, bias=True)\n",
    "        self.relu = nn.ReLU()\n",
    "        self.linear2 = nn.Linear(hid, vocab_num, bias=True)\n",
    "    \n",
    "    def forward(self, x):\n",
    "        out_1 = self.linear1(x)\n",
    "        out_relu = self.relu(out_1)\n",
    "        out = self.linear2(out_relu)\n",
    "        return out,out_1"
   ]
  },
  {
   "cell_type": "markdown",
   "metadata": {},
   "source": [
    "### Multi-Head Attention"
   ]
  },
  {
   "cell_type": "markdown",
   "metadata": {},
   "source": [
    "#### Multi-Head Self Attention"
   ]
  },
  {
   "cell_type": "code",
   "execution_count": 8,
   "metadata": {},
   "outputs": [],
   "source": [
    "class MultiHeadSelfAttention(nn.Module):\n",
    "    def __init__(self, dim, head_num):\n",
    "        super().__init__()\n",
    "        self.to_qvk = nn.Linear(dim, dim*3)\n",
    "        self.make_head = partial(to_eachhead, head_num=head_num, split_num=3)\n",
    "        self.mhsa = full_attention\n",
    "    \n",
    "    def forward(self, x):\n",
    "        qvk = self.to_qvk(x)\n",
    "        q, v, k = self.make_head(qvk)\n",
    "        out = self.mhsa(q, k, v)\n",
    "        out = concat_head(out)\n",
    "        return out"
   ]
  },
  {
   "cell_type": "markdown",
   "metadata": {},
   "source": [
    "#### Multi-Head Causal Attention"
   ]
  },
  {
   "cell_type": "code",
   "execution_count": 9,
   "metadata": {},
   "outputs": [],
   "source": [
    "class MultiHeadCausalAttention(nn.Module):\n",
    "    def __init__(self, dim, head_num):\n",
    "        super().__init__()\n",
    "        self.to_qvk = nn.Linear(dim, dim*3)\n",
    "        self.make_head = partial(to_eachhead, head_num=head_num, split_num=3)\n",
    "        self.mhca = partial(full_attention, causal=True)\n",
    "\n",
    "    def forward(self, x):\n",
    "        qvk = self.to_qvk(x)\n",
    "        q, v, k = self.make_head(qvk)\n",
    "        out = self.mhca(q, k, v)\n",
    "        out = concat_head(out)\n",
    "        return out"
   ]
  },
  {
   "cell_type": "markdown",
   "metadata": {},
   "source": [
    "#### Multi-Head Source Attention"
   ]
  },
  {
   "cell_type": "code",
   "execution_count": 10,
   "metadata": {},
   "outputs": [],
   "source": [
    "class MultiHeadSourceAttention(nn.Module):\n",
    "    def __init__(self, dim, head_num):\n",
    "        super().__init__()\n",
    "        self.to_kv = nn.Linear(dim, dim*2)\n",
    "        self.to_q = nn.Linear(dim, dim)\n",
    "        self.make_head_kv = partial(to_eachhead, head_num=head_num, split_num=2)\n",
    "        self.make_head_q = partial(to_eachhead, head_num=head_num, split_num=1)\n",
    "        self.mhsa = full_attention\n",
    "\n",
    "    def forward(self, x, memory):\n",
    "        mem = self.to_kv(memory)\n",
    "        x = self.to_q(x)\n",
    "        k, v = self.make_head_kv(mem)\n",
    "        q = self.make_head_q(x)[0]\n",
    "        out = self.mhsa(q, k, v)\n",
    "        out = concat_head(out)\n",
    "        return out"
   ]
  },
  {
   "cell_type": "markdown",
   "metadata": {},
   "source": [
    "### Feed Forward"
   ]
  },
  {
   "cell_type": "code",
   "execution_count": 11,
   "metadata": {},
   "outputs": [],
   "source": [
    "class FeedForward(nn.Module):\n",
    "    def __init__(self, dim, hid_dim):\n",
    "        super().__init__()\n",
    "        self.linear1 = nn.Linear(dim, hid_dim, bias=True)\n",
    "        self.relu = nn.ReLU()\n",
    "        self.linear2 = nn.Linear(hid_dim, dim, bias=True)\n",
    "    \n",
    "    def forward(self, x):\n",
    "        out = self.linear1(x)\n",
    "        out = self.relu(out)\n",
    "        out = self.linear2(out)\n",
    "        return out"
   ]
  },
  {
   "cell_type": "markdown",
   "metadata": {},
   "source": [
    "### Encoder"
   ]
  },
  {
   "cell_type": "code",
   "execution_count": 12,
   "metadata": {},
   "outputs": [],
   "source": [
    "class EncoderLayer(nn.Module):\n",
    "    def __init__(self, dim, head_num, ff_hidnum, dropout_ratio, norm_first=False):\n",
    "        super().__init__()\n",
    "        self.dor = dropout_ratio\n",
    "        self.mhsa = MultiHeadSelfAttention(dim, head_num)\n",
    "        self.ln1 = nn.LayerNorm(dim)\n",
    "        self.ff = FeedForward(dim, ff_hidnum)\n",
    "        self.ln2 = nn.LayerNorm(dim)\n",
    "        self.norm_first = norm_first\n",
    "\n",
    "    def forward(self, x):\n",
    "        res = torch.clone(x)\n",
    "\n",
    "        if self.norm_first:\n",
    "          out = self.ln1(x)\n",
    "          out = self.mhsa(out)\n",
    "          out = F.dropout(out, p=self.dor) + res\n",
    "\n",
    "          res = torch.clone(out)\n",
    "          out = self.ln2(out)\n",
    "          out = self.ff(out)\n",
    "          out = F.dropout(out, p=self.dor) + res\n",
    "        else:\n",
    "          out = self.mhsa(x)\n",
    "          out = F.dropout(out, p=self.dor) + res\n",
    "          out = self.ln1(out)\n",
    "\n",
    "          res = torch.clone(out)\n",
    "          out = self.ff(out)\n",
    "          out = F.dropout(out, p=self.dor) + res\n",
    "          out = self.ln2(out)\n",
    "\n",
    "        return out"
   ]
  },
  {
   "cell_type": "code",
   "execution_count": 13,
   "metadata": {},
   "outputs": [],
   "source": [
    "class Encoder(nn.Module):\n",
    "    def __init__(self, depth, dim, head_num, ff_hidnum=2048, dropout_ratio=0.2, norm_first=False):\n",
    "        super().__init__()\n",
    "        self.layers = nn.ModuleList([EncoderLayer(dim, head_num, ff_hidnum, dropout_ratio, norm_first) for i in range(depth)])\n",
    "    \n",
    "    def forward(self, x):\n",
    "        for layer in self.layers:\n",
    "            x = layer(x)\n",
    "        return x"
   ]
  },
  {
   "cell_type": "markdown",
   "metadata": {},
   "source": [
    "### Decoder"
   ]
  },
  {
   "cell_type": "code",
   "execution_count": 14,
   "metadata": {},
   "outputs": [],
   "source": [
    "class DecoderLayer(nn.Module):\n",
    "    def __init__(self, dim, head_num, ff_hidnum, dropout_ratio, norm_first=False):\n",
    "        super().__init__()\n",
    "        self.dor = dropout_ratio\n",
    "        self.mhca = MultiHeadCausalAttention(dim, head_num)\n",
    "        self.ln1 = nn.LayerNorm(dim)\n",
    "        self.mhsa = MultiHeadSourceAttention(dim, head_num)\n",
    "        self.ln2 = nn.LayerNorm(dim)\n",
    "        self.ff = FeedForward(dim, ff_hidnum)\n",
    "        self.ln3 = nn.LayerNorm(dim)\n",
    "        self.norm_first = norm_first\n",
    "\n",
    "    def forward(self, x, memory):\n",
    "        res = torch.clone(x)\n",
    "\n",
    "        if self.norm_first:\n",
    "          out = self.ln1(x)\n",
    "          out = self.mhca(out)\n",
    "          out = F.dropout(out, p=self.dor) + res\n",
    "          \n",
    "          res = torch.clone(out)\n",
    "          out = self.ln2(out)\n",
    "          out = self.mhsa(out, memory)\n",
    "          out = F.dropout(out, p=self.dor) + res\n",
    "\n",
    "          res = torch.clone(out)\n",
    "          out = self.ln3(out)\n",
    "          out = self.ff(out)\n",
    "          out = F.dropout(out, p=self.dor) + res\n",
    "\n",
    "        else:\n",
    "          out = self.mhca(x)\n",
    "          out = F.dropout(out, p=self.dor) + res\n",
    "          out = self.ln1(out)\n",
    "\n",
    "          res = torch.clone(out)\n",
    "          out = self.mhsa(out, memory)\n",
    "          out = F.dropout(out, p=self.dor) + res\n",
    "          out = self.ln2(out)\n",
    "\n",
    "          res = torch.clone(out)\n",
    "          out = self.ff(out)\n",
    "          out = F.dropout(out, p=self.dor) + res\n",
    "          out = self.ln3(out)\n",
    "\n",
    "        return out"
   ]
  },
  {
   "cell_type": "code",
   "execution_count": 15,
   "metadata": {},
   "outputs": [],
   "source": [
    "class Decoder(nn.Module):\n",
    "    def __init__(self, depth, dim, head_num, ff_hidnum, dropout_ratio=0.2, norm_first=False):\n",
    "        super().__init__()\n",
    "        self.layers = nn.ModuleList([DecoderLayer(dim, head_num, ff_hidnum, dropout_ratio, norm_first) for i in range(depth)])\n",
    "    \n",
    "    def forward(self, x, memory):\n",
    "        for layer in self.layers:\n",
    "            x = layer(x, memory)\n",
    "        return x"
   ]
  },
  {
   "cell_type": "markdown",
   "metadata": {},
   "source": [
    "### Transformer"
   ]
  },
  {
   "cell_type": "code",
   "execution_count": 16,
   "metadata": {},
   "outputs": [],
   "source": [
    "class Transformer(nn.Module):\n",
    "    def __init__(self, device, d_model, in_dim, N_enc, N_dec, h_enc, h_dec, ff_hidnum, hid_pre, hid_post, dropout_pre, dropout_post, dropout_model, norm_first=False):\n",
    "        super().__init__()\n",
    "        self.device = device\n",
    "        self.x_pre = PreLayer(hid_pre, d_model, dropout_pre, in_dim)\n",
    "        self.y_pre = PreLayer(hid_pre, d_model, dropout_pre, in_dim)\n",
    "        self.pos = PositionalEncoding(d_model)\n",
    "        self.enc = Encoder(N_enc,d_model, h_enc, ff_hidnum, dropout_model, norm_first)\n",
    "        self.dec = Decoder(N_dec,d_model, h_dec, ff_hidnum, dropout_model, norm_first)\n",
    "        self.post = PostLayer(d_model,in_dim, hid_post, dropout_post)\n",
    "\n",
    "    def forward(self, x, y):\n",
    "        x_emb, x_out = self.x_pre(x)\n",
    "        y_emb, y_out = self.y_pre(y)\n",
    "        x_emb_pos = self.pos(x_emb)\n",
    "        y_emb_pos = self.pos(y_emb)\n",
    "        memory = self.enc(x_emb_pos)\n",
    "        out_dec = self.dec(y_emb_pos, memory)\n",
    "        out_post, out_1 = self.post(out_dec)\n",
    "        out = out_post.squeeze(-1)\n",
    "        return out, out_1\n",
    "\n",
    "    def generate(self, x, forcast_step, y_start,multivariate=False):\n",
    "        device = x.device\n",
    "        x = x.to(device)\n",
    "        B, N, D = x.shape\n",
    "        x, pre_x = self.x_pre(x) \n",
    "        x = self.pos(x)\n",
    "        z = self.enc(x) \n",
    "        y = y_start\n",
    "        for i in range(forcast_step):\n",
    "            y_pred, pre_y = self.y_pre(y)\n",
    "            y_pred = self.pos(y_pred)\n",
    "            y_pred = self.dec(y_pred, z)\n",
    "            y_pred, pos = self.post(y_pred)\n",
    "            if multivariate:\n",
    "                y = torch.cat([y, y_pred[:,[-1],:]], dim=2)\n",
    "            else:\n",
    "                y = torch.cat([y, y_pred[:,[-1],:]], dim=1)\n",
    "        y_pred = y_pred.squeeze(-1)\n",
    "        return y_pred"
   ]
  },
  {
   "cell_type": "markdown",
   "metadata": {},
   "source": [
    "## Grad-CAM"
   ]
  },
  {
   "cell_type": "code",
   "execution_count": 17,
   "metadata": {},
   "outputs": [],
   "source": [
    "def show_cam_on_image(mask,i):\n",
    "    heatmap = cv2.applyColorMap(np.uint8(255 * mask), cv2.COLORMAP_JET)\n",
    "    heatmap = np.float32(heatmap) / 255\n",
    "    \n",
    "    cam = heatmap\n",
    "    cam = cam / np.max(cam)\n",
    "    \n",
    "    # np.save('Grad-CAM/cam_array_%s'%(i), cam.transpose(1,0,2))\n",
    "    # cv2.imwrite(\"Grad-CAM/transformer%s_fitur.png\" %(i), np.uint8(255*cam.transpose(1,0,2)))"
   ]
  },
  {
   "cell_type": "code",
   "execution_count": 18,
   "metadata": {},
   "outputs": [],
   "source": [
    "class FeatureExtractor():\n",
    "    def __init__(self, model, target_layers):\n",
    "        self.model = model\n",
    "        self.target_layers = target_layers\n",
    "        self.gradients = []\n",
    "\n",
    "    def save_gradient(self, grad):\n",
    "        self.gradients.append(grad)\n",
    "\n",
    "    def __call__(self, x):\n",
    "        outputs = []\n",
    "        self.gradients = []\n",
    "      \n",
    "        x.register_hook(self.save_gradient)\n",
    "        outputs += [x]\n",
    "        return outputs, x"
   ]
  },
  {
   "cell_type": "code",
   "execution_count": 19,
   "metadata": {},
   "outputs": [],
   "source": [
    "class ModelOutputs():\n",
    "    def __init__(self, model, feature_module, target_layers):\n",
    "        self.model = model\n",
    "        self.feature_module = feature_module\n",
    "        self.feature_extractor = FeatureExtractor(self.feature_module, target_layers)\n",
    "\n",
    "    def get_gradients(self):\n",
    "        return self.feature_extractor.gradients\n",
    "\n",
    "    def __call__(self, x, cudas=False):\n",
    "        target_activations = []\n",
    "        dataiter = iter(x)\n",
    "        x1, y, tgt = next(dataiter)\n",
    "        if cudas:\n",
    "            out, inp = self.model(x1.cuda(),y.cuda())\n",
    "        else:\n",
    "            out, inp = self.model(x1,y)\n",
    "\n",
    "        target_activations, inp = self.feature_extractor(inp) \n",
    "        return target_activations, out"
   ]
  },
  {
   "cell_type": "code",
   "execution_count": 20,
   "metadata": {},
   "outputs": [],
   "source": [
    "class GradCam:\n",
    "    def __init__(self, model, feature_module, target_layer_names, use_cuda):\n",
    "        self.model = model\n",
    "        self.feature_module = feature_module\n",
    "        self.model.train()\n",
    "        self.cuda = use_cuda\n",
    "        if self.cuda:\n",
    "            self.model = model.cuda()\n",
    "        self.extractor = ModelOutputs(self.model, self.feature_module, target_layer_names)\n",
    "\n",
    "    def forward(self, input):\n",
    "        return self.model(input)\n",
    "\n",
    "    def __call__(self, input, in_dim):\n",
    "        length = input.dataset.datalen\n",
    "        if self.cuda:\n",
    "            features, output = self.extractor(input, cudas=True)\n",
    "        else:\n",
    "            features, output = self.extractor(input)\n",
    "    \n",
    "        output = output.squeeze()\n",
    "        # output = 1-output\n",
    "        one_hot = np.zeros((output.size()[0], output.size()[1]), dtype=np.float32)\n",
    "        one_hot[:,0] = 1\n",
    "        one_hot = torch.from_numpy(one_hot).requires_grad_(True)\n",
    "\n",
    "        if self.cuda:\n",
    "            one_hot = torch.sum(one_hot.cuda() * output)\n",
    "        else:\n",
    "            one_hot = torch.sum(one_hot * output)\n",
    "\n",
    "        self.feature_module.zero_grad()\n",
    "        self.model.zero_grad()\n",
    "\n",
    "        one_hot.backward(retain_graph=True)\n",
    "\n",
    "        weights = self.extractor.get_gradients()[0].cpu().data.numpy()\n",
    "        weights = np.mean(weights, axis=(1))\n",
    "\n",
    "        target = features[-1]\n",
    "        target = target.cpu().data.numpy()\n",
    "        target = np.mean(target, axis=(1))\n",
    "        \n",
    "        cam = weights*(target)\n",
    "        cam = np.maximum(cam, 0)\n",
    "        cam = cv2.resize(cam, torch.Size([in_dim,length+4]))\n",
    "        cam = cam - np.min(cam)\n",
    "        cam = cam / np.max(cam)\n",
    "        return cam"
   ]
  },
  {
   "cell_type": "markdown",
   "metadata": {},
   "source": [
    "## Dataset"
   ]
  },
  {
   "cell_type": "code",
   "execution_count": 105,
   "metadata": {},
   "outputs": [],
   "source": [
    "class Dataset(torch.utils.data.Dataset):\n",
    "    def __init__(self, data, input_step, predict_step):\n",
    "        super().__init__()\n",
    "        self.data = data\n",
    "        self.predict_step = predict_step\n",
    "        self.input_step = input_step\n",
    "        self.start_max = self.data.shape[0] - (self.predict_step + self.input_step) + 1\n",
    "        self.datalen = self.start_max\n",
    "\n",
    "    def __len__(self):\n",
    "        return self.datalen\n",
    "\n",
    "    def __getitem__(self, idx):\n",
    "        start_idx = idx % self.start_max\n",
    "        predict_idx = start_idx + self.input_step\n",
    "        end_idx = predict_idx + self.predict_step\n",
    "\n",
    "        x = self.data[start_idx:predict_idx, :]\n",
    "        y = self.data[predict_idx-1:end_idx-1, :]\n",
    "        tgt = self.data[predict_idx:end_idx, :]\n",
    "\n",
    "\n",
    "        x = torch.from_numpy(x)\n",
    "        y = torch.from_numpy(y)\n",
    "        tgt = torch.from_numpy(tgt)\n",
    "\n",
    "        return x, y, tgt"
   ]
  },
  {
   "cell_type": "code",
   "execution_count": 106,
   "metadata": {},
   "outputs": [],
   "source": [
    "def load_data(data_path, test_size=30,multivariate=False,in_dim=1):\n",
    "    data = pd.read_csv(data_path)\n",
    "\n",
    "    data.date = pd.to_datetime(data.date)\n",
    "\n",
    "    data = data.set_index('date')\n",
    "    data_len = data.shape[0]\n",
    "    numpy_use_jii = data['jii'].to_numpy()\n",
    "    scaler = MinMaxScaler(feature_range=(-1, 1))\n",
    "    numpy_use_jii = scaler.fit_transform(numpy_use_jii.reshape(-1,1))\n",
    "    if multivariate:\n",
    "        if in_dim == 10:\n",
    "            data = data[['jii', 'vol jii', 'ihsg', 'vol ihsg', 'usd', 'eur', 'gold/gr', 'silver/gr', 'oil/bbl', 'gas/mmbtu']]\n",
    "            numpy_use = data.to_numpy()\n",
    "            original_data = data\n",
    "            scaler_all = MinMaxScaler(feature_range=(-1, 1)) \n",
    "            numpy_use = scaler_all.fit_transform(numpy_use)\n",
    "        elif in_dim == 36:\n",
    "            data = data.drop(columns=['vol jii', 'ihsg', 'vol ihsg', 'usd', 'eur', 'gold/gr', 'silver/gr', 'oil/bbl', 'gas/mmbtu'])\n",
    "            numpy_use = data.to_numpy()\n",
    "            original_data = data\n",
    "            scaler_all = MinMaxScaler(feature_range=(-1, 1)) \n",
    "            numpy_use = scaler_all.fit_transform(numpy_use)\n",
    "        elif in_dim == 41:\n",
    "            data = data.drop(columns=['new_cases', 'new_cases_smoothed', 'new_cases_per_million','new_cases_smoothed_per_million'])\n",
    "            numpy_use = data.to_numpy()\n",
    "            original_data = data\n",
    "            scaler_all = MinMaxScaler(feature_range=(-1, 1)) \n",
    "            numpy_use = scaler_all.fit_transform(numpy_use)\n",
    "        if in_dim == 45:\n",
    "            numpy_use = data.to_numpy()\n",
    "            original_data = data\n",
    "            scaler_all = MinMaxScaler(feature_range=(-1, 1)) \n",
    "            numpy_use = scaler_all.fit_transform(numpy_use)\n",
    "        if in_dim == 8:\n",
    "            data = data[['jii', 'oil/bbl', 'total_tests', 'total_vaccinations', 'eur', 'total_cases', 'new_tests', 'gas/mmbtu']]\n",
    "            numpy_use = data.to_numpy()\n",
    "            original_data = data\n",
    "            scaler_all = MinMaxScaler(feature_range=(-1, 1)) \n",
    "            numpy_use = scaler_all.fit_transform(numpy_use)\n",
    "        if in_dim == 29:\n",
    "            data = data[['jii', 'silver/gr', 'oil/bbl', 'stringency_index', 'new_deaths_per_million', 'new_tests_smoothed_per_thousand', 'usd', 'vol ihsg', 'ihsg', 'new_tests_per_thousand', 'new_deaths', 'total_cases_per_million', 'new_cases_smoothed_per_million', 'new_deaths_smoothed', 'total_deaths_per_million', 'people_vaccinated_per_hundred', 'new_vaccinations', 'total_deaths', 'people_fully_vaccinated', 'reproduction_rate', 'gas/mmbtu', 'eur', 'new_deaths_smoothed_per_million', 'total_tests', 'new_people_vaccinated_smoothed_per_hundred', 'vol jii', 'new_vaccinations_smoothed', 'new_cases_per_million', 'gold/gr']]\n",
    "            numpy_use = data.to_numpy()\n",
    "            original_data = data\n",
    "            scaler_all = MinMaxScaler(feature_range=(-1, 1)) \n",
    "            numpy_use = scaler_all.fit_transform(numpy_use)\n",
    "        if in_dim == 17:\n",
    "            data = data[['jii','new_people_vaccinated_smoothed_per_hundred', 'eur', 'people_vaccinated', 'total_vaccinations_per_hundred', 'new_vaccinations_smoothed_per_million', 'oil/bbl', 'reproduction_rate', 'people_fully_vaccinated_per_hundred', 'new_deaths_per_million', 'new_cases_smoothed_per_million', 'vol ihsg', 'gas/mmbtu', 'new_tests', 'total_boosters', 'new_vaccinations', 'new_cases_smoothed']]\n",
    "            numpy_use = data.to_numpy()\n",
    "            original_data = data\n",
    "            scaler_all = MinMaxScaler(feature_range=(-1, 1)) \n",
    "            numpy_use = scaler_all.fit_transform(numpy_use)\n",
    "        if in_dim == 23:\n",
    "            data = data[['jii','new_people_vaccinated_smoothed_per_hundred', 'total_vaccinations', 'new_deaths', 'gold/gr', 'oil/bbl', 'people_vaccinated_per_hundred', 'ihsg', 'new_cases_smoothed', 'silver/gr', 'total_deaths_per_million', 'tests_per_case', 'new_deaths_smoothed_per_million', 'usd', 'new_vaccinations', 'total_vaccinations_per_hundred', 'new_tests_per_thousand', 'new_people_vaccinated_smoothed', 'total_tests', 'positive_rate', 'eur', 'people_fully_vaccinated_per_hundred', 'gas/mmbtu']]\n",
    "            numpy_use = data.to_numpy()\n",
    "            original_data = data\n",
    "            scaler_all = MinMaxScaler(feature_range=(-1, 1)) \n",
    "            numpy_use = scaler_all.fit_transform(numpy_use)\n",
    "        if in_dim == 15:\n",
    "            data = data[['jii','total_vaccinations', 'silver/gr', 'new_deaths', 'people_vaccinated', 'new_cases', 'vol jii', 'total_boosters_per_hundred', 'vol ihsg', 'gas/mmbtu', 'usd', 'new_tests', 'total_cases_per_million', 'people_fully_vaccinated', 'total_boosters']]\n",
    "            numpy_use = data.to_numpy()\n",
    "            original_data = data\n",
    "            scaler_all = MinMaxScaler(feature_range=(-1, 1)) \n",
    "            numpy_use = scaler_all.fit_transform(numpy_use)\n",
    "        train_val, test_only = numpy_use[:data_len - test_size,:], numpy_use[data_len - test_size:,:]\n",
    "        train_num = data_len//10 * 7\n",
    "        train_data = train_val[:train_num].astype(\"float32\")\n",
    "        val_data = train_val[train_num:].astype(\"float32\")\n",
    "        test_data = test_only.astype(\"float32\")\n",
    "        return train_data, val_data, test_data, scaler, original_data\n",
    "    else:\n",
    "        original_data = data[\"jii\"]\n",
    "        train_val, test_only = numpy_use_jii[:numpy_use_jii.size - test_size], numpy_use_jii[numpy_use_jii.size - test_size:]\n",
    "        train_num = data_len//10 * 7\n",
    "        train_data = train_val[:train_num].astype(\"float32\")\n",
    "        val_data = train_val[train_num:].astype(\"float32\")\n",
    "        test_data = test_only.astype(\"float32\")\n",
    "        return train_data, val_data, test_data, scaler, original_data\n",
    "    "
   ]
  },
  {
   "cell_type": "code",
   "execution_count": 107,
   "metadata": {},
   "outputs": [],
   "source": [
    "def make_dataloader(train_data, val_data, test_data, input_step, predict_step, batch_size, shuffle_train=True, shuffle_val=False):\n",
    "    train_set = Dataset(train_data, input_step, predict_step)\n",
    "    val_set = Dataset(val_data, input_step, predict_step)\n",
    "    test_set = Dataset(test_data, input_step, predict_step)\n",
    "\n",
    "    train_loader = torch.utils.data.DataLoader(train_set, batch_size, shuffle=shuffle_train)\n",
    "    val_loader = torch.utils.data.DataLoader(val_set, batch_size=batch_size, shuffle=shuffle_val)\n",
    "    test_loader = torch.utils.data.DataLoader(test_set, batch_size=batch_size, shuffle=False)\n",
    "\n",
    "    return train_loader, val_loader, test_loader"
   ]
  },
  {
   "cell_type": "markdown",
   "metadata": {},
   "source": [
    "## Training"
   ]
  },
  {
   "cell_type": "markdown",
   "metadata": {},
   "source": [
    "### Training Utils"
   ]
  },
  {
   "cell_type": "code",
   "execution_count": 108,
   "metadata": {},
   "outputs": [],
   "source": [
    "def lr_func(step, d_model):\n",
    "    warmup_steps = 5000\n",
    "    step_term = min(step**0.5, step*warmup_steps**(-1.5))\n",
    "    return d_model**0.5 * step_term"
   ]
  },
  {
   "cell_type": "code",
   "execution_count": 109,
   "metadata": {},
   "outputs": [],
   "source": [
    "def fix_seed(seed):\n",
    "    random.seed(seed)\n",
    "    np.random.seed(seed)\n",
    "    torch.manual_seed(seed)\n",
    "    torch.cuda.manual_seed_all(seed)\n",
    "    torch.backends.cudnn.deterministic = True"
   ]
  },
  {
   "cell_type": "code",
   "execution_count": 110,
   "metadata": {},
   "outputs": [],
   "source": [
    "def check_data(device, test_loader, net, criterion, multi=False):\n",
    "    net.eval()\n",
    "    loss_log = []\n",
    "    \n",
    "    for iters, (x, y, tgt) in enumerate(test_loader):\n",
    "        x, y, tgt = x.to(device), y.to(device), tgt.to(device)\n",
    "        tgt = tgt[:,:,0]\n",
    "        \n",
    "        out,out_post = net(x, y)\n",
    "\n",
    "        if multi:\n",
    "            loss = criterion(out[:,:,0], tgt)\n",
    "        else:\n",
    "            loss = criterion(out, tgt)\n",
    "        loss_log.append(loss.item())\n",
    "    \n",
    "    return sum(loss_log)/len(loss_log)"
   ]
  },
  {
   "cell_type": "code",
   "execution_count": 111,
   "metadata": {},
   "outputs": [],
   "source": [
    "torch.set_printoptions(precision=5, sci_mode=False)\n",
    "np.set_printoptions(precision=5, suppress=True)\n",
    "\n",
    "device = torch.device(\"cuda\" if torch.cuda.is_available() else \"cpu\")\n",
    "fix_seed(1)"
   ]
  },
  {
   "cell_type": "markdown",
   "metadata": {},
   "source": [
    "### Hyperparameter"
   ]
  },
  {
   "cell_type": "code",
   "execution_count": 112,
   "metadata": {},
   "outputs": [],
   "source": [
    "input_step = 4     \n",
    "predict_step = 1    \n",
    "d_model = 128         \n",
    "batch_size = 64\n",
    "max_epoch = 100\n",
    "in_dim = 10\n",
    "N_enc = 1     \n",
    "N_dec = 1           \n",
    "h_enc = 1\n",
    "h_dec = 1\n",
    "ff_hidnum = 50     \n",
    "hid_pre = 100      \n",
    "hid_post = 50       \n",
    "dropout_pre = 0\n",
    "dropout_post = 0\n",
    "dropout_model = 0.2\n",
    "save_each = 10\n",
    "multi=True\n",
    "norm_first = False # default = False (Post-LN)\n",
    "# dbg = args.debug\n",
    "model_path = 'content/model/'\n",
    "test_result_path = 'content/test_result_path/'"
   ]
  },
  {
   "cell_type": "markdown",
   "metadata": {},
   "source": [
    "### Load Data"
   ]
  },
  {
   "cell_type": "code",
   "execution_count": 113,
   "metadata": {},
   "outputs": [],
   "source": [
    "train, val, test, scaler, original = load_data('Data/data.csv', test_size=60, multivariate=multi,in_dim=in_dim)"
   ]
  },
  {
   "cell_type": "code",
   "execution_count": 114,
   "metadata": {},
   "outputs": [
    {
     "data": {
      "text/plain": [
       "((574, 10), (192, 10), (60, 10))"
      ]
     },
     "execution_count": 114,
     "metadata": {},
     "output_type": "execute_result"
    }
   ],
   "source": [
    "train.shape, val.shape, test.shape"
   ]
  },
  {
   "cell_type": "code",
   "execution_count": 115,
   "metadata": {},
   "outputs": [
    {
     "data": {
      "text/plain": [
       "8260"
      ]
     },
     "execution_count": 115,
     "metadata": {},
     "output_type": "execute_result"
    }
   ],
   "source": [
    "train.size + val.size + test.size"
   ]
  },
  {
   "cell_type": "code",
   "execution_count": 116,
   "metadata": {},
   "outputs": [],
   "source": [
    "train_loader, val_loader, test_loader = make_dataloader(train, val, test, input_step, predict_step, batch_size, shuffle_train=True, shuffle_val=True)"
   ]
  },
  {
   "cell_type": "markdown",
   "metadata": {},
   "source": [
    "### Load Model and Optimizer"
   ]
  },
  {
   "cell_type": "code",
   "execution_count": 117,
   "metadata": {},
   "outputs": [],
   "source": [
    "net = Transformer(device, d_model, in_dim, N_enc, N_dec, h_enc, h_dec, ff_hidnum, hid_pre, hid_post, dropout_pre, dropout_post, dropout_model, norm_first)\n",
    "net = net.to(device)\n",
    "\n",
    "optimizer = optim.Adam(net.parameters(), lr=0.01)\n",
    "scheduler = optim.lr_scheduler.LambdaLR(optimizer, lr_lambda=partial(lr_func, d_model = d_model))"
   ]
  },
  {
   "cell_type": "markdown",
   "metadata": {},
   "source": [
    "### Training Process"
   ]
  },
  {
   "cell_type": "code",
   "execution_count": 118,
   "metadata": {},
   "outputs": [
    {
     "name": "stdout",
     "output_type": "stream",
     "text": [
      "epoch : 0, MSE loss : 0.256889671087265, RMSE loss : 0.506842851638794, val_loss : 0.3823578556378682, rmse : 0.6183509162586146\n",
      "epoch : 1, MSE loss : 0.2649524211883545, RMSE loss : 0.5147352814674377, val_loss : 0.37143901983896893, rmse : 0.6094579721678673\n",
      "epoch : 2, MSE loss : 0.24092432856559753, RMSE loss : 0.49084043502807617, val_loss : 0.306707759698232, rmse : 0.5538120255991485\n",
      "epoch : 3, MSE loss : 0.10825364291667938, RMSE loss : 0.3290192186832428, val_loss : 0.2540706346432368, rmse : 0.5040541981208339\n",
      "epoch : 4, MSE loss : 0.1757519394159317, RMSE loss : 0.4192277789115906, val_loss : 0.18956579267978668, rmse : 0.43539153951332893\n",
      "epoch : 5, MSE loss : 0.10625426471233368, RMSE loss : 0.32596665620803833, val_loss : 0.13932266334692636, rmse : 0.3732595120648988\n",
      "epoch : 6, MSE loss : 0.050527993589639664, RMSE loss : 0.22478432953357697, val_loss : 0.09638173133134842, rmse : 0.31045407282132476\n",
      "epoch : 7, MSE loss : 0.1154014840722084, RMSE loss : 0.3397079408168793, val_loss : 0.07894526422023773, rmse : 0.28097199899676434\n",
      "epoch : 8, MSE loss : 0.07212064415216446, RMSE loss : 0.26855286955833435, val_loss : 0.0644849178691705, rmse : 0.2539388073319446\n",
      "epoch : 9, MSE loss : 0.09304357320070267, RMSE loss : 0.3050304353237152, val_loss : 0.05073581511775652, rmse : 0.22524612120468696\n",
      "epoch : 10, MSE loss : 0.09433542191982269, RMSE loss : 0.3071407079696655, val_loss : 0.06095061575373014, rmse : 0.24688178497760854\n",
      "epoch : 11, MSE loss : 0.05714786425232887, RMSE loss : 0.23905619978904724, val_loss : 0.05884408578276634, rmse : 0.24257799937909938\n",
      "epoch : 12, MSE loss : 0.08325022459030151, RMSE loss : 0.2885311543941498, val_loss : 0.06452293942372005, rmse : 0.2540136599156038\n",
      "epoch : 13, MSE loss : 0.06187876686453819, RMSE loss : 0.24875442683696747, val_loss : 0.06081103285153707, rmse : 0.24659893116462828\n",
      "epoch : 14, MSE loss : 0.055374495685100555, RMSE loss : 0.23531785607337952, val_loss : 0.052979689091444016, rmse : 0.23017317196285933\n",
      "epoch : 15, MSE loss : 0.051062747836112976, RMSE loss : 0.22597068548202515, val_loss : 0.058860535422960915, rmse : 0.24261190288805065\n",
      "epoch : 16, MSE loss : 0.06221110373735428, RMSE loss : 0.24942153692245483, val_loss : 0.06035300965110461, rmse : 0.24566849543867975\n",
      "epoch : 17, MSE loss : 0.07087840139865875, RMSE loss : 0.2662299871444702, val_loss : 0.06038420647382736, rmse : 0.24573198097485677\n",
      "epoch : 18, MSE loss : 0.05028914660215378, RMSE loss : 0.22425241768360138, val_loss : 0.05279703438282013, rmse : 0.22977605267481668\n",
      "epoch : 19, MSE loss : 0.07025470584630966, RMSE loss : 0.2650560438632965, val_loss : 0.05584096039334933, rmse : 0.23630691990153257\n",
      "epoch : 20, MSE loss : 0.054618287831544876, RMSE loss : 0.2337055653333664, val_loss : 0.053299225866794586, rmse : 0.2308662510346512\n",
      "epoch : 21, MSE loss : 0.04204154014587402, RMSE loss : 0.2050403356552124, val_loss : 0.05700614054997762, rmse : 0.23875958734672337\n",
      "epoch : 22, MSE loss : 0.03960264101624489, RMSE loss : 0.199004128575325, val_loss : 0.057123408963282905, rmse : 0.23900503961900657\n",
      "epoch : 23, MSE loss : 0.031255144625902176, RMSE loss : 0.176791250705719, val_loss : 0.053151000291109085, rmse : 0.23054500708345232\n",
      "epoch : 24, MSE loss : 0.02355700172483921, RMSE loss : 0.15348289906978607, val_loss : 0.056738946586847305, rmse : 0.23819938410257763\n",
      "epoch : 25, MSE loss : 0.027574259787797928, RMSE loss : 0.16605499386787415, val_loss : 0.06062991917133331, rmse : 0.2462314341657728\n",
      "epoch : 26, MSE loss : 0.032973382622003555, RMSE loss : 0.18158574402332306, val_loss : 0.05839133014281591, rmse : 0.2416429807439395\n",
      "epoch : 27, MSE loss : 0.023384757339954376, RMSE loss : 0.15292075276374817, val_loss : 0.055949848145246506, rmse : 0.2365372024550187\n",
      "epoch : 28, MSE loss : 0.02337106689810753, RMSE loss : 0.15287598967552185, val_loss : 0.053795872877041497, rmse : 0.23193937327897024\n",
      "epoch : 29, MSE loss : 0.018550431355834007, RMSE loss : 0.1361999660730362, val_loss : 0.046999787290891014, rmse : 0.21679434330925476\n",
      "epoch : 30, MSE loss : 0.02666187286376953, RMSE loss : 0.16328464448451996, val_loss : 0.049740176647901535, rmse : 0.22302505834076478\n",
      "epoch : 31, MSE loss : 0.01869085244834423, RMSE loss : 0.13671448826789856, val_loss : 0.05662296712398529, rmse : 0.2379558091831029\n",
      "epoch : 32, MSE loss : 0.014531636610627174, RMSE loss : 0.12054723501205444, val_loss : 0.04519235466917356, rmse : 0.21258493518867597\n",
      "epoch : 33, MSE loss : 0.01933884061872959, RMSE loss : 0.13906416296958923, val_loss : 0.03818056359887123, rmse : 0.195398473890845\n",
      "epoch : 34, MSE loss : 0.011437676846981049, RMSE loss : 0.10694707185029984, val_loss : 0.04568776612480482, rmse : 0.21374696752189215\n",
      "epoch : 35, MSE loss : 0.013626339845359325, RMSE loss : 0.1167319118976593, val_loss : 0.03652678430080414, rmse : 0.19111981660938288\n",
      "epoch : 36, MSE loss : 0.010568547062575817, RMSE loss : 0.10280343890190125, val_loss : 0.03190931864082813, rmse : 0.1786317962761057\n",
      "epoch : 37, MSE loss : 0.013225632719695568, RMSE loss : 0.11500275135040283, val_loss : 0.030813414603471756, rmse : 0.1755375019859624\n",
      "epoch : 38, MSE loss : 0.008861892856657505, RMSE loss : 0.09413762390613556, val_loss : 0.022645469134052593, rmse : 0.1504841158862044\n",
      "epoch : 39, MSE loss : 0.011497179046273232, RMSE loss : 0.10722489655017853, val_loss : 0.02304467310508092, rmse : 0.15180472029907674\n",
      "epoch : 40, MSE loss : 0.009430686943233013, RMSE loss : 0.09711172431707382, val_loss : 0.02435676318903764, rmse : 0.15606653449422667\n",
      "epoch : 41, MSE loss : 0.019821705296635628, RMSE loss : 0.14078958332538605, val_loss : 0.019135935852924984, rmse : 0.1383326998685596\n",
      "epoch : 42, MSE loss : 0.009162623435258865, RMSE loss : 0.09572159498929977, val_loss : 0.022521772732337315, rmse : 0.15007255822547078\n",
      "epoch : 43, MSE loss : 0.009909041225910187, RMSE loss : 0.09954416751861572, val_loss : 0.023568489278356235, rmse : 0.15352032203703925\n",
      "epoch : 44, MSE loss : 0.009415660984814167, RMSE loss : 0.09703432768583298, val_loss : 0.024218103537956875, rmse : 0.15562166795776505\n",
      "epoch : 45, MSE loss : 0.0084208520129323, RMSE loss : 0.09176520258188248, val_loss : 0.020146893958250683, rmse : 0.14193975467870404\n",
      "epoch : 46, MSE loss : 0.0128242252394557, RMSE loss : 0.11324409395456314, val_loss : 0.01949797508617242, rmse : 0.13963514989490441\n",
      "epoch : 47, MSE loss : 0.011506824754178524, RMSE loss : 0.10726986825466156, val_loss : 0.013474042216936747, rmse : 0.11607774212542535\n",
      "epoch : 48, MSE loss : 0.008527807891368866, RMSE loss : 0.09234613180160522, val_loss : 0.012428981562455496, rmse : 0.1114853423659608\n",
      "epoch : 49, MSE loss : 0.0064493753015995026, RMSE loss : 0.08030800521373749, val_loss : 0.013219147610167662, rmse : 0.11497455201116316\n",
      "epoch : 50, MSE loss : 0.006760891061276197, RMSE loss : 0.08222463726997375, val_loss : 0.018210832340021927, rmse : 0.1349475169835367\n",
      "epoch : 51, MSE loss : 0.0057169352658092976, RMSE loss : 0.07561041414737701, val_loss : 0.011431175904969374, rmse : 0.10691667739398458\n",
      "epoch : 52, MSE loss : 0.007472504395991564, RMSE loss : 0.08644364774227142, val_loss : 0.014472764916718006, rmse : 0.12030280510743716\n",
      "epoch : 53, MSE loss : 0.00548659497871995, RMSE loss : 0.07407155632972717, val_loss : 0.011659748231371244, rmse : 0.10798031409183456\n",
      "epoch : 54, MSE loss : 0.006423474755138159, RMSE loss : 0.08014658093452454, val_loss : 0.012920087513824305, rmse : 0.11366656286623743\n",
      "epoch : 55, MSE loss : 0.0056380415335297585, RMSE loss : 0.07508689165115356, val_loss : 0.013222591330607733, rmse : 0.1149895270475\n",
      "epoch : 56, MSE loss : 0.005239133257418871, RMSE loss : 0.07238185405731201, val_loss : 0.010388080651561419, rmse : 0.10192193410430073\n",
      "epoch : 57, MSE loss : 0.007991793565452099, RMSE loss : 0.08939683437347412, val_loss : 0.00965205766260624, rmse : 0.09824488619061167\n",
      "epoch : 58, MSE loss : 0.007011885289102793, RMSE loss : 0.08373700082302094, val_loss : 0.010448871025194725, rmse : 0.1022197193558793\n",
      "epoch : 59, MSE loss : 0.006156440358608961, RMSE loss : 0.07846298813819885, val_loss : 0.011837560373047987, rmse : 0.10880055318355687\n",
      "epoch : 60, MSE loss : 0.008988896384835243, RMSE loss : 0.09480979293584824, val_loss : 0.01197150256484747, rmse : 0.1094143617851307\n",
      "epoch : 61, MSE loss : 0.007293438073247671, RMSE loss : 0.08540162444114685, val_loss : 0.010729251118997732, rmse : 0.10358209844851442\n",
      "epoch : 62, MSE loss : 0.004471450112760067, RMSE loss : 0.06686890125274658, val_loss : 0.014016417476038137, rmse : 0.1183909518334832\n",
      "epoch : 63, MSE loss : 0.005810214672237635, RMSE loss : 0.07622476667165756, val_loss : 0.011313783625761667, rmse : 0.10636627109080052\n",
      "epoch : 64, MSE loss : 0.005274021532386541, RMSE loss : 0.07262245565652847, val_loss : 0.011444642829398314, rmse : 0.1069796374521727\n",
      "epoch : 65, MSE loss : 0.005996606312692165, RMSE loss : 0.07743775844573975, val_loss : 0.01055767418195804, rmse : 0.10275054346307877\n",
      "epoch : 66, MSE loss : 0.005380492191761732, RMSE loss : 0.07335183769464493, val_loss : 0.012091754625240961, rmse : 0.10996251463676593\n",
      "epoch : 67, MSE loss : 0.00686351815238595, RMSE loss : 0.08284635096788406, val_loss : 0.013146481787165007, rmse : 0.11465810824867557\n",
      "epoch : 68, MSE loss : 0.004378124140202999, RMSE loss : 0.06616739183664322, val_loss : 0.00806338790183266, rmse : 0.08979636909047414\n",
      "epoch : 69, MSE loss : 0.005536605603992939, RMSE loss : 0.07440836727619171, val_loss : 0.010889031613866488, rmse : 0.10435052282507495\n",
      "epoch : 70, MSE loss : 0.007852421142160892, RMSE loss : 0.08861389011144638, val_loss : 0.009915038322408995, rmse : 0.09957428544764453\n",
      "epoch : 71, MSE loss : 0.00290195201523602, RMSE loss : 0.05386976897716522, val_loss : 0.010570700901250044, rmse : 0.10281391394772424\n",
      "epoch : 72, MSE loss : 0.003772644093260169, RMSE loss : 0.06142185255885124, val_loss : 0.009752405186494192, rmse : 0.09875426667488445\n",
      "epoch : 73, MSE loss : 0.005408989265561104, RMSE loss : 0.07354582846164703, val_loss : 0.012943041200439135, rmse : 0.11376748744891545\n",
      "epoch : 74, MSE loss : 0.006014663260430098, RMSE loss : 0.07755426317453384, val_loss : 0.015188530397911867, rmse : 0.12324175590242079\n",
      "epoch : 75, MSE loss : 0.006986481137573719, RMSE loss : 0.08358517289161682, val_loss : 0.008880109215776125, rmse : 0.09423433140727494\n",
      "epoch : 76, MSE loss : 0.0040592350997030735, RMSE loss : 0.06371212750673294, val_loss : 0.009924331679940224, rmse : 0.09962093996715864\n",
      "epoch : 77, MSE loss : 0.005273753311485052, RMSE loss : 0.07262061536312103, val_loss : 0.011063270581265291, rmse : 0.1051820829859596\n",
      "epoch : 78, MSE loss : 0.004254745319485664, RMSE loss : 0.0652284100651741, val_loss : 0.009359178754190603, rmse : 0.09674284859456332\n",
      "epoch : 79, MSE loss : 0.004650925751775503, RMSE loss : 0.06819769740104675, val_loss : 0.009702764141062895, rmse : 0.09850260981853676\n",
      "epoch : 80, MSE loss : 0.003784793196246028, RMSE loss : 0.06152067333459854, val_loss : 0.007867310972263416, rmse : 0.08869786340303477\n",
      "epoch : 81, MSE loss : 0.005416771396994591, RMSE loss : 0.0735987201333046, val_loss : 0.006610017114629348, rmse : 0.08130201175019809\n",
      "epoch : 82, MSE loss : 0.0029982109554111958, RMSE loss : 0.05475592240691185, val_loss : 0.012385944525400797, rmse : 0.11129215841828569\n",
      "epoch : 83, MSE loss : 0.005392006598412991, RMSE loss : 0.07343028485774994, val_loss : 0.009373892409106096, rmse : 0.09681886391146147\n",
      "epoch : 84, MSE loss : 0.0055908518843352795, RMSE loss : 0.07477200031280518, val_loss : 0.007212790971000989, rmse : 0.08492815181670321\n",
      "epoch : 85, MSE loss : 0.00343769951723516, RMSE loss : 0.05863189697265625, val_loss : 0.00879353036483129, rmse : 0.09377382558492156\n",
      "epoch : 86, MSE loss : 0.004438433330506086, RMSE loss : 0.0666215717792511, val_loss : 0.005832567655791839, rmse : 0.07637124888197022\n",
      "epoch : 87, MSE loss : 0.004519174341112375, RMSE loss : 0.06722480803728104, val_loss : 0.009964266791939735, rmse : 0.09982117406612555\n",
      "epoch : 88, MSE loss : 0.003892087610438466, RMSE loss : 0.06238659843802452, val_loss : 0.013343511459728083, rmse : 0.1155141180104323\n",
      "epoch : 89, MSE loss : 0.00550244702026248, RMSE loss : 0.07417847961187363, val_loss : 0.00957895815372467, rmse : 0.09787215208487382\n",
      "epoch : 90, MSE loss : 0.0035148521419614553, RMSE loss : 0.05928618833422661, val_loss : 0.006007354085644086, rmse : 0.07750712280586917\n",
      "epoch : 91, MSE loss : 0.004861386492848396, RMSE loss : 0.06972364336252213, val_loss : 0.008047891004631916, rmse : 0.08971003848305895\n",
      "epoch : 92, MSE loss : 0.003481436287984252, RMSE loss : 0.05900369584560394, val_loss : 0.015528975054621696, rmse : 0.12461530826757079\n",
      "epoch : 93, MSE loss : 0.004770923405885696, RMSE loss : 0.06907187402248383, val_loss : 0.011731413813928762, rmse : 0.10831165133044904\n",
      "epoch : 94, MSE loss : 0.00386609579436481, RMSE loss : 0.06217793747782707, val_loss : 0.009199119172990322, rmse : 0.09591203872815092\n",
      "epoch : 95, MSE loss : 0.0037999472115188837, RMSE loss : 0.06164371222257614, val_loss : 0.006286256791402896, rmse : 0.07928591798928039\n",
      "epoch : 96, MSE loss : 0.0035592771600931883, RMSE loss : 0.0596596784889698, val_loss : 0.0076961824670434, rmse : 0.08772788876431144\n",
      "epoch : 97, MSE loss : 0.004284992348402739, RMSE loss : 0.06545985490083694, val_loss : 0.0075944360966483755, rmse : 0.08714606185392645\n",
      "epoch : 98, MSE loss : 0.004892087075859308, RMSE loss : 0.06994345784187317, val_loss : 0.008839902468025684, rmse : 0.09402075551720314\n",
      "epoch : 99, MSE loss : 0.0033378286752849817, RMSE loss : 0.05777394399046898, val_loss : 0.008048116695135832, rmse : 0.0897112963630324\n"
     ]
    }
   ],
   "source": [
    "train_loss_log = []\n",
    "val_loss_log = []\n",
    "\n",
    "best_train_loss = np.inf\n",
    "best_val_loss = np.inf\n",
    "best_both_loss = (np.inf, np.inf)\n",
    "best_train_epoch = 0\n",
    "best_val_epoch = 0\n",
    "best_both_epoch = 0\n",
    "criterion = nn.MSELoss()\n",
    "max_iteration = 0\n",
    "for epoch in range(max_epoch):\n",
    "  tgt_log_train = np.zeros((1,predict_step))\n",
    "  pred_log_train = np.zeros((1,predict_step))\n",
    "\n",
    "  for iters, (x, y, tgt) in enumerate(train_loader):\n",
    "    x, y, tgt = x.to(device), y.to(device), tgt.to(device)\n",
    "    tgt = tgt[:,:,0]\n",
    "    net.train()\n",
    "            \n",
    "    out, out_post = net(x, y)\n",
    "    if multi:\n",
    "      loss = criterion(out[:,:,0], tgt)\n",
    "    else:\n",
    "      loss = criterion(out, tgt)\n",
    "            \n",
    "    optimizer.zero_grad()\n",
    "    loss.backward()\n",
    "    optimizer.step()\n",
    "    scheduler.step()\n",
    "    \n",
    "    if multi:\n",
    "      out_npy = out[:,:,0].to('cpu').detach().numpy().copy()\n",
    "    else:\n",
    "      out_npy = out.to('cpu').detach().numpy().copy()\n",
    "    #out_npy = out_npy[:, np.newaxis]\n",
    "    tgt_npy = tgt.to('cpu').detach().numpy().copy()\n",
    "\n",
    "    pred_log_train = np.concatenate([pred_log_train, out_npy], axis=0)\n",
    "    tgt_log_train = np.concatenate([tgt_log_train, tgt_npy], axis=0)    \n",
    "  if epoch == 0:\n",
    "    max_iteration = iters + 1\n",
    "  train_loss_log.append(loss.item())      \n",
    "  val_loss = check_data(device, val_loader, net, criterion, multi)\n",
    "  val_loss_log.append(val_loss)# MSE\n",
    "\n",
    "  # print(\"*************validation******************\")\n",
    "  print(\"epoch : {}, MSE loss : {}, RMSE loss : {}, val_loss : {}, rmse : {}\".format(epoch, loss.item(), torch.sqrt(loss).item(),val_loss, math.sqrt(val_loss)))\n",
    "\n",
    "  # save low train loss model\n",
    "  if loss < best_train_loss:\n",
    "    best_train_loss = loss\n",
    "    best_train_epoch = epoch\n",
    "    torch.save(net.state_dict(), os.path.join(model_path, \"best_train_loss_model.model\"))\n",
    "    torch.save(net.state_dict(), os.path.join(model_path, \"best_train_loss_model.pt\"))\n",
    "\n",
    "  # save low val loss model\n",
    "  if val_loss < best_val_loss:\n",
    "    best_val_loss = val_loss\n",
    "    best_val_epoch = epoch\n",
    "    torch.save(net.state_dict(), os.path.join(model_path, \"best_val_loss_model.model\"))\n",
    "    \n",
    "  # save both loss model\n",
    "  if loss < best_train_loss and val_loss < best_val_loss:\n",
    "    best_both_loss = (loss, val_loss)\n",
    "    best_both_epoch = epoch\n",
    "    torch.save(net.state_dict(), os.path.join(model_path, \"best_both_loss_model.model\"))\n",
    "\n",
    "  # save model\n",
    "  if epoch % save_each == 0 or epoch == max_epoch - 1:\n",
    "    torch.save(net.state_dict(), os.path.join(model_path, '{}_epoch.model'.format(epoch)))"
   ]
  },
  {
   "cell_type": "markdown",
   "metadata": {},
   "source": [
    "### Compute Grad-CAM"
   ]
  },
  {
   "cell_type": "code",
   "execution_count": 119,
   "metadata": {},
   "outputs": [],
   "source": [
    "X_input = Dataset(test, input_step, predict_step)\n",
    "X_input = torch.utils.data.DataLoader(X_input, batch_size=batch_size, shuffle=False)"
   ]
  },
  {
   "cell_type": "code",
   "execution_count": 120,
   "metadata": {},
   "outputs": [
    {
     "data": {
      "text/plain": [
       "<All keys matched successfully>"
      ]
     },
     "execution_count": 120,
     "metadata": {},
     "output_type": "execute_result"
    }
   ],
   "source": [
    "model = Transformer(device, d_model, in_dim, N_enc, N_dec, h_enc, h_dec, ff_hidnum, hid_pre, hid_post, dropout_pre, dropout_post, dropout_model, norm_first)\n",
    "model.load_state_dict(torch.load(\"content/model/best_train_loss_model.pt\"))"
   ]
  },
  {
   "cell_type": "code",
   "execution_count": 121,
   "metadata": {},
   "outputs": [
    {
     "data": {
      "text/plain": [
       "Transformer(\n",
       "  (x_pre): PreLayer(\n",
       "    (linear1): Linear(in_features=10, out_features=100, bias=True)\n",
       "    (relu): ReLU()\n",
       "    (linear2): Linear(in_features=100, out_features=128, bias=True)\n",
       "  )\n",
       "  (y_pre): PreLayer(\n",
       "    (linear1): Linear(in_features=10, out_features=100, bias=True)\n",
       "    (relu): ReLU()\n",
       "    (linear2): Linear(in_features=100, out_features=128, bias=True)\n",
       "  )\n",
       "  (pos): PositionalEncoding()\n",
       "  (enc): Encoder(\n",
       "    (layers): ModuleList(\n",
       "      (0): EncoderLayer(\n",
       "        (mhsa): MultiHeadSelfAttention(\n",
       "          (to_qvk): Linear(in_features=128, out_features=384, bias=True)\n",
       "        )\n",
       "        (ln1): LayerNorm((128,), eps=1e-05, elementwise_affine=True)\n",
       "        (ff): FeedForward(\n",
       "          (linear1): Linear(in_features=128, out_features=50, bias=True)\n",
       "          (relu): ReLU()\n",
       "          (linear2): Linear(in_features=50, out_features=128, bias=True)\n",
       "        )\n",
       "        (ln2): LayerNorm((128,), eps=1e-05, elementwise_affine=True)\n",
       "      )\n",
       "    )\n",
       "  )\n",
       "  (dec): Decoder(\n",
       "    (layers): ModuleList(\n",
       "      (0): DecoderLayer(\n",
       "        (mhca): MultiHeadCausalAttention(\n",
       "          (to_qvk): Linear(in_features=128, out_features=384, bias=True)\n",
       "        )\n",
       "        (ln1): LayerNorm((128,), eps=1e-05, elementwise_affine=True)\n",
       "        (mhsa): MultiHeadSourceAttention(\n",
       "          (to_kv): Linear(in_features=128, out_features=256, bias=True)\n",
       "          (to_q): Linear(in_features=128, out_features=128, bias=True)\n",
       "        )\n",
       "        (ln2): LayerNorm((128,), eps=1e-05, elementwise_affine=True)\n",
       "        (ff): FeedForward(\n",
       "          (linear1): Linear(in_features=128, out_features=50, bias=True)\n",
       "          (relu): ReLU()\n",
       "          (linear2): Linear(in_features=50, out_features=128, bias=True)\n",
       "        )\n",
       "        (ln3): LayerNorm((128,), eps=1e-05, elementwise_affine=True)\n",
       "      )\n",
       "    )\n",
       "  )\n",
       "  (post): PostLayer(\n",
       "    (linear1): Linear(in_features=128, out_features=50, bias=True)\n",
       "    (relu): ReLU()\n",
       "    (linear2): Linear(in_features=50, out_features=10, bias=True)\n",
       "  )\n",
       ")"
      ]
     },
     "execution_count": 121,
     "metadata": {},
     "output_type": "execute_result"
    }
   ],
   "source": [
    "model = model.cuda()\n",
    "model.train()"
   ]
  },
  {
   "cell_type": "code",
   "execution_count": 122,
   "metadata": {},
   "outputs": [],
   "source": [
    "grad_cam = GradCam(model=model, feature_module=model.post, target_layer_names=[\"linear1\"], use_cuda=True)\n",
    "mask = grad_cam(X_input, in_dim)\n",
    "show_cam_on_image(mask,in_dim)"
   ]
  },
  {
   "cell_type": "markdown",
   "metadata": {},
   "source": [
    "### Plot Training"
   ]
  },
  {
   "cell_type": "code",
   "execution_count": 123,
   "metadata": {},
   "outputs": [],
   "source": [
    "train_loss_np = np.array(train_loss_log)\n",
    "val_loss_np = np.array(val_loss_log)"
   ]
  },
  {
   "cell_type": "code",
   "execution_count": 124,
   "metadata": {},
   "outputs": [
    {
     "data": {
      "image/png": "[encoded data removed]",
      "text/plain": [
       "<Figure size 700x400 with 1 Axes>"
      ]
     },
     "metadata": {},
     "output_type": "display_data"
    }
   ],
   "source": [
    "import matplotlib.pyplot as plt\n",
    "\n",
    "fig, ax = plt.subplots(figsize=(7,4))\n",
    "ax.plot(train_loss_np, label=\"train\")\n",
    "ax.plot(val_loss_np, label=\"validation\")\n",
    "plt.title(\"MSE Loss\")\n",
    "plt.legend()\n",
    "plt.show()"
   ]
  },
  {
   "cell_type": "code",
   "execution_count": 125,
   "metadata": {},
   "outputs": [
    {
     "data": {
      "text/plain": [
       "(71, 86)"
      ]
     },
     "execution_count": 125,
     "metadata": {},
     "output_type": "execute_result"
    }
   ],
   "source": [
    "best_train_epoch, best_val_epoch"
   ]
  },
  {
   "cell_type": "code",
   "execution_count": 126,
   "metadata": {},
   "outputs": [],
   "source": [
    "min_plot = best_val_epoch-10 if best_val_epoch >= 10 else 0\n",
    "max_plot = best_val_epoch+10"
   ]
  },
  {
   "cell_type": "code",
   "execution_count": 127,
   "metadata": {},
   "outputs": [
    {
     "data": {
      "image/png": "[encoded data removed]",
      "text/plain": [
       "<Figure size 700x400 with 1 Axes>"
      ]
     },
     "metadata": {},
     "output_type": "display_data"
    }
   ],
   "source": [
    "import matplotlib.pyplot as plt\n",
    "\n",
    "fig, ax = plt.subplots(figsize=(7,4))\n",
    "ax.plot(train_loss_np[min_plot:max_plot], label=\"train\")\n",
    "ax.plot(val_loss_np[min_plot:max_plot], label = \"validation\")\n",
    "plt.title(\"MSE Loss\")\n",
    "plt.grid(which='both')\n",
    "plt.legend()\n",
    "plt.show()"
   ]
  },
  {
   "cell_type": "markdown",
   "metadata": {},
   "source": [
    "## Testing"
   ]
  },
  {
   "cell_type": "markdown",
   "metadata": {},
   "source": [
    "### Load Data"
   ]
  },
  {
   "cell_type": "code",
   "execution_count": 128,
   "metadata": {},
   "outputs": [],
   "source": [
    "def make_dataloader(data, input_step, predict_step, batch_size=1):\n",
    "    dataset = Dataset(data, input_step, predict_step)\n",
    "    dataloader = torch.utils.data.DataLoader(dataset, batch_size=batch_size, shuffle=False)\n",
    "    return dataset, dataloader"
   ]
  },
  {
   "cell_type": "code",
   "execution_count": 129,
   "metadata": {},
   "outputs": [],
   "source": [
    "torch.set_printoptions(precision=5, sci_mode=False)\n",
    "np.set_printoptions(precision=5, suppress=True)\n",
    "\n",
    "device = torch.device(\"cuda\" if torch.cuda.is_available() else \"cpu\")"
   ]
  },
  {
   "cell_type": "code",
   "execution_count": 130,
   "metadata": {},
   "outputs": [],
   "source": [
    "test_set, test_loader = make_dataloader(test, input_step, predict_step, batch_size=600)\n",
    "all_data = test_set.data[:,0]"
   ]
  },
  {
   "cell_type": "code",
   "execution_count": 131,
   "metadata": {},
   "outputs": [
    {
     "data": {
      "text/plain": [
       "(60, 10)"
      ]
     },
     "execution_count": 131,
     "metadata": {},
     "output_type": "execute_result"
    }
   ],
   "source": [
    "test_set.data.shape"
   ]
  },
  {
   "cell_type": "code",
   "execution_count": 132,
   "metadata": {},
   "outputs": [
    {
     "data": {
      "text/plain": [
       "600"
      ]
     },
     "execution_count": 132,
     "metadata": {},
     "output_type": "execute_result"
    }
   ],
   "source": [
    "test.size"
   ]
  },
  {
   "cell_type": "markdown",
   "metadata": {},
   "source": [
    "### Load Model and State"
   ]
  },
  {
   "cell_type": "code",
   "execution_count": 133,
   "metadata": {},
   "outputs": [
    {
     "name": "stdout",
     "output_type": "stream",
     "text": [
      "86\n"
     ]
    }
   ],
   "source": [
    "epoch_num = best_val_epoch\n",
    "print(epoch_num)\n",
    "par_path = os.path.join(model_path, \"best_val_loss_model.model\")"
   ]
  },
  {
   "cell_type": "code",
   "execution_count": 134,
   "metadata": {},
   "outputs": [],
   "source": [
    "net = Transformer(device, d_model, in_dim, N_enc, N_dec, h_enc, h_dec, ff_hidnum, hid_pre, hid_post, dropout_pre, dropout_post, dropout_model, norm_first)\n",
    "    \n",
    "# load parameter\n",
    "if device == torch.device(\"cpu\"):\n",
    "  net.load_state_dict(torch.load(par_path, map_location=torch.device(\"cpu\")))\n",
    "else:\n",
    "  net.load_state_dict(torch.load(par_path,map_location=torch.device(device)))"
   ]
  },
  {
   "cell_type": "markdown",
   "metadata": {},
   "source": [
    "### Testing Process"
   ]
  },
  {
   "cell_type": "code",
   "execution_count": 135,
   "metadata": {},
   "outputs": [],
   "source": [
    "net.eval()\n",
    "\n",
    "pred_list = np.zeros((1, predict_step))\n",
    "for iters, (x, y, tgt) in enumerate(test_loader):\n",
    "    tgt = tgt[:,:,0]\n",
    "\n",
    "    out = net.generate(x, tgt.shape[1], y[:,[0],:],multi)\n",
    "    if multi:\n",
    "        out = out[:,:,0].to('cpu').detach().numpy().copy()\n",
    "    else:\n",
    "        out = out.to('cpu').detach().numpy().copy()\n",
    "\n",
    "    pred_list = np.concatenate([pred_list, out], axis=0)\n",
    "\n",
    "pred_list = pred_list[1:]\n",
    "D = []\n",
    "for i in range(predict_step):\n",
    "    tmp = np.concatenate([all_data[:(input_step+i)], pred_list[:,i], all_data[(all_data.shape[0]-(predict_step - (i + 1))):]])\n",
    "    D.append(tmp)\n",
    "\n",
    "for step_num, tmp_data in enumerate(D):\n",
    "    n = step_num + 1\n",
    "\n",
    "    np.save(os.path.join(test_result_path, \"pred{}_epoch{}\".format(n, epoch_num)), pred_list[:,[step_num]])\n",
    "    np.save(os.path.join(test_result_path, \"tgt{}_epoch{}\".format(n, epoch_num)), tgt[:,[step_num]])"
   ]
  },
  {
   "cell_type": "markdown",
   "metadata": {},
   "source": [
    "### Plot Testing"
   ]
  },
  {
   "cell_type": "code",
   "execution_count": 136,
   "metadata": {},
   "outputs": [
    {
     "data": {
      "image/png": "[encoded data removed]",
      "text/plain": [
       "<Figure size 1200x600 with 1 Axes>"
      ]
     },
     "metadata": {},
     "output_type": "display_data"
    }
   ],
   "source": [
    "all_data_denorm = np.round(scaler.inverse_transform(all_data.reshape(all_data.size,1)))\n",
    "fig, (ax1) = plt.subplots(1, 1,figsize=(12,6), sharex=True, sharey=True)\n",
    "indeks = original.index[-60:]\n",
    "fig.suptitle(f'Multivariate prediction ({in_dim} features)')\n",
    "for i,C in enumerate(D):\n",
    "  d_denorm = np.round(scaler.inverse_transform(C.reshape(C.size,1)))\n",
    "  ax1.plot(d_denorm, label='prediction')\n",
    "ax1.axvline(input_step-1, ls='dashed', c='r')\n",
    "ax1.plot(all_data_denorm, label='true')\n",
    "ax1.legend()\n",
    "num_ticks = 15 \n",
    "x_ticks = np.linspace(0, len(indeks) - 1, num_ticks, dtype=int)\n",
    "x_labels = indeks[x_ticks].strftime('%Y-%m-%d')\n",
    "ax1.set_xticks(x_ticks)\n",
    "ax1.set_xticklabels(x_labels, rotation=45)\n",
    "#plt.savefig('Grad-CAM/Multivariate prediction ({in_dim} features).jpg')\n",
    "plt.show()"
   ]
  },
  {
   "cell_type": "markdown",
   "metadata": {},
   "source": [
    "### Error"
   ]
  },
  {
   "cell_type": "code",
   "execution_count": 137,
   "metadata": {},
   "outputs": [
    {
     "name": "stdout",
     "output_type": "stream",
     "text": [
      "Error Pred 1\n",
      "MAPE\t : 1.73275\n",
      "MAE\t : 9.46429\n",
      "MSE\t : 123.14286\n",
      "RMSE\t : 11.09698\n",
      "\n",
      "Rata-rata MAPE  1.73275\n"
     ]
    }
   ],
   "source": [
    "MAPE = []\n",
    "for ind, d in enumerate(D):\n",
    "    d_denorm = np.round(scaler.inverse_transform(d.reshape(d.size,1)))\n",
    "    print(f\"Error Pred {ind+1}\")\n",
    "    print(f\"MAPE\\t : {np.round(mean_absolute_percentage_error(all_data_denorm[input_step+ind:], d_denorm[input_step+ind:])*100,5)}\")\n",
    "    print(f\"MAE\\t : {np.round(mean_absolute_error(all_data_denorm[input_step+ind:], d_denorm[input_step+ind:]),5)}\")\n",
    "    print(f\"MSE\\t : {np.round(mean_squared_error(all_data_denorm[input_step+ind:], d_denorm[input_step+ind:]),5)}\")\n",
    "    print(f\"RMSE\\t : {np.round(np.sqrt(mean_squared_error(all_data_denorm[input_step+ind:], d_denorm[input_step+ind:])),5)}\\n\")\n",
    "    MAPE.append(np.round(mean_absolute_percentage_error(all_data_denorm[input_step+ind:], d_denorm[input_step+ind:])*100,5))\n",
    "print(\"Rata-rata MAPE \",np.round(np.mean(MAPE),5))"
   ]
  },
  {
   "cell_type": "markdown",
   "metadata": {},
   "source": [
    "# LSTM"
   ]
  },
  {
   "cell_type": "markdown",
   "metadata": {},
   "source": [
    "## Model"
   ]
  },
  {
   "cell_type": "code",
   "execution_count": 165,
   "metadata": {},
   "outputs": [],
   "source": [
    "class LSTM(nn.Module):\n",
    "\n",
    "    def __init__(self, input_size, num_classes, hidden_size, num_layers):\n",
    "        super(LSTM, self).__init__()\n",
    "        \n",
    "        self.num_classes = num_classes\n",
    "        self.num_layers = num_layers\n",
    "        self.input_size = input_size\n",
    "        self.hidden_size = hidden_size\n",
    "        \n",
    "        self.lstm = nn.LSTM(input_size=input_size, hidden_size=hidden_size,\n",
    "                            num_layers=num_layers, batch_first=True)\n",
    "        \n",
    "        self.fc = nn.Linear(hidden_size, num_classes)\n",
    "\n",
    "    def forward(self, x):\n",
    "        h_0 = Variable(torch.zeros(\n",
    "            self.num_layers, x.size(0), self.hidden_size))\n",
    "        \n",
    "        c_0 = Variable(torch.zeros(\n",
    "            self.num_layers, x.size(0), self.hidden_size))\n",
    "\n",
    "        ula, (h_out, _) = self.lstm(x, (h_0, c_0))\n",
    "        \n",
    "        h_out = h_out.view(-1, self.hidden_size)\n",
    "        \n",
    "        out = self.fc(h_out)\n",
    "        \n",
    "        return out"
   ]
  },
  {
   "cell_type": "markdown",
   "metadata": {},
   "source": [
    "## Dataset"
   ]
  },
  {
   "cell_type": "code",
   "execution_count": 166,
   "metadata": {},
   "outputs": [],
   "source": [
    "def load_data(data_path,multivariate=False,in_dim=1):\n",
    "    data = pd.read_csv(data_path)\n",
    "\n",
    "    data.date = pd.to_datetime(data.date)\n",
    "\n",
    "    data = data.set_index('date')\n",
    "    data_len = data.shape[0]\n",
    "    numpy_use_jii = data['jii'].to_numpy()\n",
    "    scaler = MinMaxScaler(feature_range=(-1, 1))\n",
    "    numpy_use_jii = scaler.fit_transform(numpy_use_jii.reshape(-1,1))\n",
    "    if multivariate:\n",
    "        if in_dim == 10:\n",
    "            data = data[['jii', 'vol jii', 'ihsg', 'vol ihsg', 'usd', 'eur', 'gold/gr', 'silver/gr', 'oil/bbl', 'gas/mmbtu']]\n",
    "            numpy_use = data.to_numpy()\n",
    "            original_data = data\n",
    "            scaler_all = MinMaxScaler(feature_range=(-1, 1)) \n",
    "            numpy_use = scaler_all.fit_transform(numpy_use)\n",
    "        elif in_dim == 36:\n",
    "            data = data.drop(columns=['vol jii', 'ihsg', 'vol ihsg', 'usd', 'eur', 'gold/gr', 'silver/gr', 'oil/bbl', 'gas/mmbtu'])\n",
    "            numpy_use = data.to_numpy()\n",
    "            original_data = data\n",
    "            scaler_all = MinMaxScaler(feature_range=(-1, 1)) \n",
    "            numpy_use = scaler_all.fit_transform(numpy_use)\n",
    "        elif in_dim == 41:\n",
    "            data = data.drop(columns=['new_cases', 'new_cases_smoothed', 'new_cases_per_million','new_cases_smoothed_per_million'])\n",
    "            numpy_use = data.to_numpy()\n",
    "            original_data = data\n",
    "            scaler_all = MinMaxScaler(feature_range=(-1, 1)) \n",
    "            numpy_use = scaler_all.fit_transform(numpy_use)\n",
    "        if in_dim == 45:\n",
    "            numpy_use = data.to_numpy()\n",
    "            original_data = data\n",
    "            scaler_all = MinMaxScaler(feature_range=(-1, 1)) \n",
    "            numpy_use = scaler_all.fit_transform(numpy_use)\n",
    "        return numpy_use, scaler, original_data\n",
    "    else:\n",
    "        original_data = data[\"jii\"]\n",
    "        return numpy_use_jii, scaler, original_data"
   ]
  },
  {
   "cell_type": "markdown",
   "metadata": {},
   "source": [
    "### Load Data"
   ]
  },
  {
   "cell_type": "code",
   "execution_count": 167,
   "metadata": {},
   "outputs": [],
   "source": [
    "multi = True\n",
    "in_dim = 10\n",
    "data, scaler, original = load_data('Data/data.csv', multivariate=multi,in_dim=in_dim)"
   ]
  },
  {
   "cell_type": "code",
   "execution_count": 168,
   "metadata": {},
   "outputs": [
    {
     "data": {
      "text/plain": [
       "8260"
      ]
     },
     "execution_count": 168,
     "metadata": {},
     "output_type": "execute_result"
    }
   ],
   "source": [
    "data.size"
   ]
  },
  {
   "cell_type": "code",
   "execution_count": 169,
   "metadata": {},
   "outputs": [
    {
     "data": {
      "text/plain": [
       "(826, 10)"
      ]
     },
     "execution_count": 169,
     "metadata": {},
     "output_type": "execute_result"
    }
   ],
   "source": [
    "data.shape"
   ]
  },
  {
   "cell_type": "code",
   "execution_count": 170,
   "metadata": {},
   "outputs": [],
   "source": [
    "def sliding_windows(data, seq_length):\n",
    "    x = []\n",
    "    y = []\n",
    "\n",
    "    for i in range(len(data)-seq_length-1):\n",
    "        _x = data[i:(i+seq_length)]\n",
    "        _y = data[i+seq_length]\n",
    "        x.append(_x)\n",
    "        y.append(_y)\n",
    "\n",
    "    return np.array(x),np.array(y)\n",
    "\n",
    "\n",
    "seq_length = 4\n",
    "x, y = sliding_windows(data, seq_length)\n",
    "\n",
    "test_size = 60\n",
    "train_size = int(len(y) - test_size)\n",
    "\n",
    "dataX = Variable(torch.Tensor(np.array(x)))\n",
    "dataY = Variable(torch.Tensor(np.array(y)))\n",
    "\n",
    "trainX = Variable(torch.Tensor(np.array(x[0:train_size])))\n",
    "trainY = Variable(torch.Tensor(np.array(y[0:train_size])))\n",
    "\n",
    "testX = Variable(torch.Tensor(np.array(x[train_size:len(x)])))\n",
    "testY = Variable(torch.Tensor(np.array(y[train_size:len(y)])))"
   ]
  },
  {
   "cell_type": "code",
   "execution_count": 171,
   "metadata": {},
   "outputs": [
    {
     "data": {
      "text/plain": [
       "(torch.Size([761, 4, 10]),\n",
       " torch.Size([761, 10]),\n",
       " torch.Size([60, 4, 10]),\n",
       " torch.Size([60, 10]))"
      ]
     },
     "execution_count": 171,
     "metadata": {},
     "output_type": "execute_result"
    }
   ],
   "source": [
    "trainX.shape, trainY.shape, testX.shape, testY.shape"
   ]
  },
  {
   "cell_type": "markdown",
   "metadata": {},
   "source": [
    "## Training"
   ]
  },
  {
   "cell_type": "code",
   "execution_count": 172,
   "metadata": {},
   "outputs": [
    {
     "name": "stdout",
     "output_type": "stream",
     "text": [
      "Epoch: 0, loss: 0.14404\n",
      "Epoch: 1, loss: 0.10353\n",
      "Epoch: 2, loss: 0.07790\n",
      "Epoch: 3, loss: 0.06610\n",
      "Epoch: 4, loss: 0.06259\n",
      "Epoch: 5, loss: 0.06028\n",
      "Epoch: 6, loss: 0.05588\n",
      "Epoch: 7, loss: 0.04996\n",
      "Epoch: 8, loss: 0.04442\n",
      "Epoch: 9, loss: 0.04073\n",
      "Epoch: 10, loss: 0.03932\n",
      "Epoch: 11, loss: 0.03941\n",
      "Epoch: 12, loss: 0.03958\n",
      "Epoch: 13, loss: 0.03872\n",
      "Epoch: 14, loss: 0.03663\n",
      "Epoch: 15, loss: 0.03388\n",
      "Epoch: 16, loss: 0.03122\n",
      "Epoch: 17, loss: 0.02920\n",
      "Epoch: 18, loss: 0.02787\n",
      "Epoch: 19, loss: 0.02683\n",
      "Epoch: 20, loss: 0.02558\n",
      "Epoch: 21, loss: 0.02388\n",
      "Epoch: 22, loss: 0.02188\n",
      "Epoch: 23, loss: 0.01995\n",
      "Epoch: 24, loss: 0.01841\n",
      "Epoch: 25, loss: 0.01725\n",
      "Epoch: 26, loss: 0.01619\n",
      "Epoch: 27, loss: 0.01484\n",
      "Epoch: 28, loss: 0.01308\n",
      "Epoch: 29, loss: 0.01114\n",
      "Epoch: 30, loss: 0.00944\n",
      "Epoch: 31, loss: 0.00820\n",
      "Epoch: 32, loss: 0.00725\n",
      "Epoch: 33, loss: 0.00625\n",
      "Epoch: 34, loss: 0.00533\n",
      "Epoch: 35, loss: 0.00504\n",
      "Epoch: 36, loss: 0.00530\n",
      "Epoch: 37, loss: 0.00538\n",
      "Epoch: 38, loss: 0.00526\n",
      "Epoch: 39, loss: 0.00551\n",
      "Epoch: 40, loss: 0.00590\n",
      "Epoch: 41, loss: 0.00588\n",
      "Epoch: 42, loss: 0.00568\n",
      "Epoch: 43, loss: 0.00560\n",
      "Epoch: 44, loss: 0.00539\n",
      "Epoch: 45, loss: 0.00493\n",
      "Epoch: 46, loss: 0.00453\n",
      "Epoch: 47, loss: 0.00433\n",
      "Epoch: 48, loss: 0.00416\n",
      "Epoch: 49, loss: 0.00396\n",
      "Epoch: 50, loss: 0.00386\n",
      "Epoch: 51, loss: 0.00389\n",
      "Epoch: 52, loss: 0.00392\n",
      "Epoch: 53, loss: 0.00390\n",
      "Epoch: 54, loss: 0.00390\n",
      "Epoch: 55, loss: 0.00394\n",
      "Epoch: 56, loss: 0.00396\n",
      "Epoch: 57, loss: 0.00390\n",
      "Epoch: 58, loss: 0.00381\n",
      "Epoch: 59, loss: 0.00374\n",
      "Epoch: 60, loss: 0.00365\n",
      "Epoch: 61, loss: 0.00353\n",
      "Epoch: 62, loss: 0.00341\n",
      "Epoch: 63, loss: 0.00334\n",
      "Epoch: 64, loss: 0.00330\n",
      "Epoch: 65, loss: 0.00325\n",
      "Epoch: 66, loss: 0.00324\n",
      "Epoch: 67, loss: 0.00326\n",
      "Epoch: 68, loss: 0.00326\n",
      "Epoch: 69, loss: 0.00324\n",
      "Epoch: 70, loss: 0.00324\n",
      "Epoch: 71, loss: 0.00322\n",
      "Epoch: 72, loss: 0.00318\n",
      "Epoch: 73, loss: 0.00315\n",
      "Epoch: 74, loss: 0.00312\n",
      "Epoch: 75, loss: 0.00308\n",
      "Epoch: 76, loss: 0.00305\n",
      "Epoch: 77, loss: 0.00303\n",
      "Epoch: 78, loss: 0.00301\n",
      "Epoch: 79, loss: 0.00300\n",
      "Epoch: 80, loss: 0.00299\n",
      "Epoch: 81, loss: 0.00299\n",
      "Epoch: 82, loss: 0.00298\n",
      "Epoch: 83, loss: 0.00297\n",
      "Epoch: 84, loss: 0.00296\n",
      "Epoch: 85, loss: 0.00294\n",
      "Epoch: 86, loss: 0.00293\n",
      "Epoch: 87, loss: 0.00291\n",
      "Epoch: 88, loss: 0.00289\n",
      "Epoch: 89, loss: 0.00288\n",
      "Epoch: 90, loss: 0.00287\n",
      "Epoch: 91, loss: 0.00286\n",
      "Epoch: 92, loss: 0.00285\n",
      "Epoch: 93, loss: 0.00284\n",
      "Epoch: 94, loss: 0.00283\n",
      "Epoch: 95, loss: 0.00283\n",
      "Epoch: 96, loss: 0.00282\n",
      "Epoch: 97, loss: 0.00280\n",
      "Epoch: 98, loss: 0.00279\n",
      "Epoch: 99, loss: 0.00278\n",
      "Training time: 0.37 seconds\n"
     ]
    }
   ],
   "source": [
    "num_epochs = 100\n",
    "learning_rate = 0.01\n",
    "input_size = in_dim\n",
    "hidden_size = 12\n",
    "num_layers = 1\n",
    "\n",
    "num_classes = in_dim\n",
    "\n",
    "lstm = LSTM(input_size, num_classes, hidden_size, num_layers)\n",
    "\n",
    "criterion = torch.nn.MSELoss()\n",
    "optimizer = torch.optim.Adam(lstm.parameters(), lr=learning_rate, betas=(0.9,0.98))\n",
    "\n",
    "start_time = time.time()\n",
    "\n",
    "for epoch in range(num_epochs):\n",
    "    outputs = lstm(trainX)\n",
    "    optimizer.zero_grad()\n",
    "\n",
    "    loss = criterion(outputs[:,0], trainY[:,0])\n",
    "    \n",
    "    loss.backward()\n",
    "    \n",
    "    optimizer.step()\n",
    "    print(\"Epoch: %d, loss: %1.5f\" % (epoch, loss.item()))\n",
    "end_time = time.time()\n",
    "elapsed_time = end_time - start_time\n",
    "\n",
    "print(\"Training time: {:.2f} seconds\".format(elapsed_time))"
   ]
  },
  {
   "cell_type": "markdown",
   "metadata": {},
   "source": [
    "## Testing"
   ]
  },
  {
   "cell_type": "code",
   "execution_count": 173,
   "metadata": {},
   "outputs": [
    {
     "data": {
      "text/plain": [
       "torch.Size([60, 4, 10])"
      ]
     },
     "execution_count": 173,
     "metadata": {},
     "output_type": "execute_result"
    }
   ],
   "source": [
    "testX.shape"
   ]
  },
  {
   "cell_type": "code",
   "execution_count": 174,
   "metadata": {},
   "outputs": [],
   "source": [
    "lstm.eval()\n",
    "train_predict = lstm(testX)\n",
    "\n",
    "data_predict = train_predict.data.numpy()\n",
    "dataY_plot = testY.data.numpy()\n",
    "\n",
    "data_predict = np.round(scaler.inverse_transform(data_predict))\n",
    "#np.savetxt('data_predict.csv', data_predict, delimiter=',')\n",
    "\n",
    "dataY_plot = np.round(scaler.inverse_transform(dataY_plot))\n",
    "#np.savetxt('dataY_plot.csv', dataY_plot, delimiter=',')"
   ]
  },
  {
   "cell_type": "code",
   "execution_count": 175,
   "metadata": {},
   "outputs": [
    {
     "data": {
      "text/plain": [
       "(60, 10)"
      ]
     },
     "execution_count": 175,
     "metadata": {},
     "output_type": "execute_result"
    }
   ],
   "source": [
    "data_predict.shape"
   ]
  },
  {
   "cell_type": "code",
   "execution_count": 176,
   "metadata": {},
   "outputs": [
    {
     "data": {
      "image/png": "[encoded data removed]",
      "text/plain": [
       "<Figure size 1200x600 with 1 Axes>"
      ]
     },
     "metadata": {},
     "output_type": "display_data"
    }
   ],
   "source": [
    "fig, ax = plt.subplots(figsize=(12,6), sharex=True, sharey=True)\n",
    "ax.plot(dataY_plot[:,0], label=\"true\")\n",
    "ax.plot(data_predict[:,0], label=\"LSTM\")\n",
    "indeks = original.index[-60:]\n",
    "nama = f\"LSTM predict vs true ({in_dim} features)\"\n",
    "plt.title(nama)\n",
    "num_ticks = 15 \n",
    "x_ticks = np.linspace(0, len(indeks) - 1, num_ticks, dtype=int)\n",
    "x_labels = indeks[x_ticks].strftime('%Y-%m-%d')\n",
    "ax.set_xticks(x_ticks)\n",
    "ax.set_xticklabels(x_labels, rotation=45)\n",
    "plt.legend()\n",
    "#plt.savefig(f'LSTM/{nama}.jpg') \n",
    "plt.show()"
   ]
  },
  {
   "cell_type": "markdown",
   "metadata": {},
   "source": [
    "## Error"
   ]
  },
  {
   "cell_type": "code",
   "execution_count": 177,
   "metadata": {},
   "outputs": [
    {
     "name": "stdout",
     "output_type": "stream",
     "text": [
      "Error Pred\n",
      "MAPE\t : 1.93109\n",
      "MAE\t : 10.800000190734863\n",
      "MSE\t : 138.39999389648438\n",
      "RMSE\t : 11.764349937438965\n",
      "\n"
     ]
    }
   ],
   "source": [
    "print(f\"Error Pred\")\n",
    "print(f\"MAPE\\t : {np.round(mean_absolute_percentage_error(data_predict[:,0], dataY_plot[:,0])*100,5)}\")\n",
    "print(f\"MAE\\t : {np.round(mean_absolute_error(data_predict[:,0], dataY_plot[:,0]),5)}\")\n",
    "print(f\"MSE\\t : {np.round(mean_squared_error(data_predict[:,0], dataY_plot[:,0]),5)}\")\n",
    "print(f\"RMSE\\t : {np.round(np.sqrt(mean_squared_error(data_predict[:,0], dataY_plot[:,0])),5)}\\n\")"
   ]
  },
  {
   "cell_type": "markdown",
   "metadata": {},
   "source": [
    "# RNN"
   ]
  },
  {
   "cell_type": "markdown",
   "metadata": {},
   "source": [
    "## Model"
   ]
  },
  {
   "cell_type": "code",
   "execution_count": 178,
   "metadata": {},
   "outputs": [],
   "source": [
    "class RNN(nn.Module):\n",
    "    def __init__(self, input_dim, output_dim,  hidden_dim, layer_dim):\n",
    "        super(RNN, self).__init__()\n",
    "        self.hidden_dim = hidden_dim\n",
    "        self.layer_dim = layer_dim\n",
    "        self.rnn = nn.RNN(input_dim, hidden_dim, layer_dim, batch_first=True, nonlinearity='relu')\n",
    "        self.fc = nn.Linear(hidden_dim, output_dim)\n",
    "\n",
    "    def forward(self, x):\n",
    "        h0 = torch.zeros(self.layer_dim, x.size(0), self.hidden_dim).requires_grad_()\n",
    "        out, hn = self.rnn(x, h0.detach())\n",
    "        out = self.fc(out[:, -1, :]) \n",
    "\n",
    "        return out"
   ]
  },
  {
   "cell_type": "markdown",
   "metadata": {},
   "source": [
    "## Dataset"
   ]
  },
  {
   "cell_type": "code",
   "execution_count": 179,
   "metadata": {},
   "outputs": [],
   "source": [
    "def load_data(data_path,multivariate=False,in_dim=1):\n",
    "    data = pd.read_csv(data_path)\n",
    "\n",
    "    data.date = pd.to_datetime(data.date)\n",
    "\n",
    "    data = data.set_index('date')\n",
    "    data_len = data.shape[0]\n",
    "    numpy_use_jii = data['jii'].to_numpy()\n",
    "    scaler = MinMaxScaler(feature_range=(-1, 1))\n",
    "    numpy_use_jii = scaler.fit_transform(numpy_use_jii.reshape(-1,1))\n",
    "    if multivariate:\n",
    "        if in_dim == 10:\n",
    "            data = data[['jii', 'vol jii', 'ihsg', 'vol ihsg', 'usd', 'eur', 'gold/gr', 'silver/gr', 'oil/bbl', 'gas/mmbtu']]\n",
    "            numpy_use = data.to_numpy()\n",
    "            original_data = data\n",
    "            scaler_all = MinMaxScaler(feature_range=(-1, 1)) \n",
    "            numpy_use = scaler_all.fit_transform(numpy_use)\n",
    "        elif in_dim == 36:\n",
    "            data = data.drop(columns=['vol jii', 'ihsg', 'vol ihsg', 'usd', 'eur', 'gold/gr', 'silver/gr', 'oil/bbl', 'gas/mmbtu'])\n",
    "            numpy_use = data.to_numpy()\n",
    "            original_data = data\n",
    "            scaler_all = MinMaxScaler(feature_range=(-1, 1)) \n",
    "            numpy_use = scaler_all.fit_transform(numpy_use)\n",
    "        elif in_dim == 41:\n",
    "            data = data.drop(columns=['new_cases', 'new_cases_smoothed', 'new_cases_per_million','new_cases_smoothed_per_million'])\n",
    "            numpy_use = data.to_numpy()\n",
    "            original_data = data\n",
    "            scaler_all = MinMaxScaler(feature_range=(-1, 1)) \n",
    "            numpy_use = scaler_all.fit_transform(numpy_use)\n",
    "        if in_dim == 45:\n",
    "            numpy_use = data.to_numpy()\n",
    "            original_data = data\n",
    "            scaler_all = MinMaxScaler(feature_range=(-1, 1)) \n",
    "            numpy_use = scaler_all.fit_transform(numpy_use)\n",
    "        return numpy_use, scaler, original_data\n",
    "    else:\n",
    "        original_data = data[\"jii\"]\n",
    "        return numpy_use_jii, scaler, original_data"
   ]
  },
  {
   "cell_type": "markdown",
   "metadata": {},
   "source": [
    "### Load Data"
   ]
  },
  {
   "cell_type": "code",
   "execution_count": 180,
   "metadata": {},
   "outputs": [],
   "source": [
    "data, scaler, original = load_data('Data/data.csv', multivariate=multi,in_dim=in_dim)"
   ]
  },
  {
   "cell_type": "code",
   "execution_count": 181,
   "metadata": {},
   "outputs": [
    {
     "data": {
      "text/plain": [
       "8260"
      ]
     },
     "execution_count": 181,
     "metadata": {},
     "output_type": "execute_result"
    }
   ],
   "source": [
    "data.size"
   ]
  },
  {
   "cell_type": "code",
   "execution_count": 182,
   "metadata": {},
   "outputs": [
    {
     "data": {
      "text/plain": [
       "(826, 10)"
      ]
     },
     "execution_count": 182,
     "metadata": {},
     "output_type": "execute_result"
    }
   ],
   "source": [
    "data.shape"
   ]
  },
  {
   "cell_type": "code",
   "execution_count": 183,
   "metadata": {},
   "outputs": [],
   "source": [
    "def sliding_windows(data, seq_length):\n",
    "    x = []\n",
    "    y = []\n",
    "\n",
    "    for i in range(len(data)-seq_length-1):\n",
    "        _x = data[i:(i+seq_length)]\n",
    "        _y = data[i+seq_length]\n",
    "        x.append(_x)\n",
    "        y.append(_y)\n",
    "\n",
    "    return np.array(x),np.array(y)\n",
    "\n",
    "seq_length = 4\n",
    "x, y = sliding_windows(data, seq_length)\n",
    "\n",
    "test_size = 60\n",
    "train_size = int(len(y) - test_size)\n",
    "\n",
    "dataX = Variable(torch.Tensor(np.array(x)))\n",
    "dataY = Variable(torch.Tensor(np.array(y)))\n",
    "\n",
    "trainX = Variable(torch.Tensor(np.array(x[0:train_size])))\n",
    "trainY = Variable(torch.Tensor(np.array(y[0:train_size])))\n",
    "\n",
    "testX = Variable(torch.Tensor(np.array(x[train_size:len(x)])))\n",
    "testY = Variable(torch.Tensor(np.array(y[train_size:len(y)])))"
   ]
  },
  {
   "cell_type": "code",
   "execution_count": 184,
   "metadata": {},
   "outputs": [
    {
     "data": {
      "text/plain": [
       "(torch.Size([761, 4, 10]),\n",
       " torch.Size([761, 10]),\n",
       " torch.Size([60, 4, 10]),\n",
       " torch.Size([60, 10]))"
      ]
     },
     "execution_count": 184,
     "metadata": {},
     "output_type": "execute_result"
    }
   ],
   "source": [
    "trainX.shape, trainY.shape, testX.shape, testY.shape"
   ]
  },
  {
   "cell_type": "markdown",
   "metadata": {},
   "source": [
    "## Training"
   ]
  },
  {
   "cell_type": "code",
   "execution_count": 185,
   "metadata": {},
   "outputs": [
    {
     "name": "stdout",
     "output_type": "stream",
     "text": [
      "Epoch: 0, loss: 0.12034\n",
      "Epoch: 1, loss: 0.10707\n",
      "Epoch: 2, loss: 0.09619\n",
      "Epoch: 3, loss: 0.08621\n",
      "Epoch: 4, loss: 0.07638\n",
      "Epoch: 5, loss: 0.06669\n",
      "Epoch: 6, loss: 0.05752\n",
      "Epoch: 7, loss: 0.04972\n",
      "Epoch: 8, loss: 0.04462\n",
      "Epoch: 9, loss: 0.04354\n",
      "Epoch: 10, loss: 0.04497\n",
      "Epoch: 11, loss: 0.04424\n",
      "Epoch: 12, loss: 0.04100\n",
      "Epoch: 13, loss: 0.03691\n",
      "Epoch: 14, loss: 0.03290\n",
      "Epoch: 15, loss: 0.02929\n",
      "Epoch: 16, loss: 0.02619\n",
      "Epoch: 17, loss: 0.02360\n",
      "Epoch: 18, loss: 0.02163\n",
      "Epoch: 19, loss: 0.02004\n",
      "Epoch: 20, loss: 0.01852\n",
      "Epoch: 21, loss: 0.01691\n",
      "Epoch: 22, loss: 0.01522\n",
      "Epoch: 23, loss: 0.01343\n",
      "Epoch: 24, loss: 0.01156\n",
      "Epoch: 25, loss: 0.00978\n",
      "Epoch: 26, loss: 0.00853\n",
      "Epoch: 27, loss: 0.00763\n",
      "Epoch: 28, loss: 0.00681\n",
      "Epoch: 29, loss: 0.00641\n",
      "Epoch: 30, loss: 0.00615\n",
      "Epoch: 31, loss: 0.00592\n",
      "Epoch: 32, loss: 0.00591\n",
      "Epoch: 33, loss: 0.00590\n",
      "Epoch: 34, loss: 0.00590\n",
      "Epoch: 35, loss: 0.00596\n",
      "Epoch: 36, loss: 0.00597\n",
      "Epoch: 37, loss: 0.00597\n",
      "Epoch: 38, loss: 0.00592\n",
      "Epoch: 39, loss: 0.00571\n",
      "Epoch: 40, loss: 0.00540\n",
      "Epoch: 41, loss: 0.00501\n",
      "Epoch: 42, loss: 0.00461\n",
      "Epoch: 43, loss: 0.00432\n",
      "Epoch: 44, loss: 0.00414\n",
      "Epoch: 45, loss: 0.00405\n",
      "Epoch: 46, loss: 0.00402\n",
      "Epoch: 47, loss: 0.00397\n",
      "Epoch: 48, loss: 0.00392\n",
      "Epoch: 49, loss: 0.00384\n",
      "Epoch: 50, loss: 0.00378\n",
      "Epoch: 51, loss: 0.00376\n",
      "Epoch: 52, loss: 0.00375\n",
      "Epoch: 53, loss: 0.00375\n",
      "Epoch: 54, loss: 0.00372\n",
      "Epoch: 55, loss: 0.00366\n",
      "Epoch: 56, loss: 0.00358\n",
      "Epoch: 57, loss: 0.00349\n",
      "Epoch: 58, loss: 0.00340\n",
      "Epoch: 59, loss: 0.00334\n",
      "Epoch: 60, loss: 0.00330\n",
      "Epoch: 61, loss: 0.00328\n",
      "Epoch: 62, loss: 0.00326\n",
      "Epoch: 63, loss: 0.00324\n",
      "Epoch: 64, loss: 0.00322\n",
      "Epoch: 65, loss: 0.00319\n",
      "Epoch: 66, loss: 0.00318\n",
      "Epoch: 67, loss: 0.00317\n",
      "Epoch: 68, loss: 0.00316\n",
      "Epoch: 69, loss: 0.00315\n",
      "Epoch: 70, loss: 0.00313\n",
      "Epoch: 71, loss: 0.00310\n",
      "Epoch: 72, loss: 0.00307\n",
      "Epoch: 73, loss: 0.00305\n",
      "Epoch: 74, loss: 0.00303\n",
      "Epoch: 75, loss: 0.00302\n",
      "Epoch: 76, loss: 0.00301\n",
      "Epoch: 77, loss: 0.00299\n",
      "Epoch: 78, loss: 0.00298\n",
      "Epoch: 79, loss: 0.00296\n",
      "Epoch: 80, loss: 0.00295\n",
      "Epoch: 81, loss: 0.00294\n",
      "Epoch: 82, loss: 0.00293\n",
      "Epoch: 83, loss: 0.00291\n",
      "Epoch: 84, loss: 0.00290\n",
      "Epoch: 85, loss: 0.00288\n",
      "Epoch: 86, loss: 0.00287\n",
      "Epoch: 87, loss: 0.00285\n",
      "Epoch: 88, loss: 0.00284\n",
      "Epoch: 89, loss: 0.00283\n",
      "Epoch: 90, loss: 0.00282\n",
      "Epoch: 91, loss: 0.00281\n",
      "Epoch: 92, loss: 0.00280\n",
      "Epoch: 93, loss: 0.00279\n",
      "Epoch: 94, loss: 0.00277\n",
      "Epoch: 95, loss: 0.00276\n",
      "Epoch: 96, loss: 0.00275\n",
      "Epoch: 97, loss: 0.00274\n",
      "Epoch: 98, loss: 0.00273\n",
      "Epoch: 99, loss: 0.00272\n",
      "Training time: 0.35 seconds\n"
     ]
    }
   ],
   "source": [
    "num_epochs = 100\n",
    "learning_rate = 0.01\n",
    "\n",
    "input_size = in_dim\n",
    "hidden_size = 12\n",
    "num_layers = 1\n",
    "\n",
    "num_classes = in_dim\n",
    "\n",
    "rnn = RNN(input_size, num_classes, hidden_size, num_layers)\n",
    "\n",
    "criterion = torch.nn.MSELoss()\n",
    "optimizer = torch.optim.Adam(rnn.parameters(), lr=learning_rate, betas=(0.9,0.98))\n",
    "\n",
    "start_time = time.time()\n",
    "for epoch in range(num_epochs):\n",
    "    outputs = rnn(trainX)\n",
    "    optimizer.zero_grad()\n",
    "    \n",
    "    loss = criterion(outputs[:,0], trainY[:,0])\n",
    "    \n",
    "    loss.backward()\n",
    "    \n",
    "    optimizer.step()\n",
    "    print(\"Epoch: %d, loss: %1.5f\" % (epoch, loss.item()))\n",
    "end_time = time.time()\n",
    "elapsed_time = end_time - start_time\n",
    "\n",
    "print(\"Training time: {:.2f} seconds\".format(elapsed_time))"
   ]
  },
  {
   "cell_type": "markdown",
   "metadata": {},
   "source": [
    "## Testing"
   ]
  },
  {
   "cell_type": "code",
   "execution_count": 186,
   "metadata": {},
   "outputs": [
    {
     "data": {
      "text/plain": [
       "torch.Size([60, 4, 10])"
      ]
     },
     "execution_count": 186,
     "metadata": {},
     "output_type": "execute_result"
    }
   ],
   "source": [
    "testX.shape"
   ]
  },
  {
   "cell_type": "code",
   "execution_count": 187,
   "metadata": {},
   "outputs": [],
   "source": [
    "rnn.eval()\n",
    "train_predict = rnn(testX)\n",
    "\n",
    "data_predict = train_predict.data.numpy()\n",
    "dataY_plot = testY.data.numpy()\n",
    "\n",
    "data_predict = np.round(scaler.inverse_transform(data_predict))\n",
    "#np.savetxt('data_predict.csv', data_predict, delimiter=',')\n",
    "\n",
    "dataY_plot = np.round(scaler.inverse_transform(dataY_plot))\n",
    "#np.savetxt('dataY_plot.csv', dataY_plot, delimiter=',')"
   ]
  },
  {
   "cell_type": "code",
   "execution_count": 188,
   "metadata": {},
   "outputs": [
    {
     "data": {
      "text/plain": [
       "(60, 10)"
      ]
     },
     "execution_count": 188,
     "metadata": {},
     "output_type": "execute_result"
    }
   ],
   "source": [
    "data_predict.shape"
   ]
  },
  {
   "cell_type": "code",
   "execution_count": 189,
   "metadata": {},
   "outputs": [
    {
     "data": {
      "image/png": "[encoded data removed]",
      "text/plain": [
       "<Figure size 1200x600 with 1 Axes>"
      ]
     },
     "metadata": {},
     "output_type": "display_data"
    }
   ],
   "source": [
    "fig, ax = plt.subplots(figsize=(12,6), sharex=True, sharey=True)\n",
    "ax.plot(dataY_plot[:,0], label=\"true\")\n",
    "ax.plot(data_predict[:,0], label=\"RNN\")\n",
    "indeks = original.index[-60:]\n",
    "nama = f\"RNN predict vs true ({in_dim} features)\"\n",
    "plt.title(nama)\n",
    "num_ticks = 15 \n",
    "x_ticks = np.linspace(0, len(indeks) - 1, num_ticks, dtype=int)\n",
    "x_labels = indeks[x_ticks].strftime('%Y-%m-%d')\n",
    "ax.set_xticks(x_ticks)\n",
    "ax.set_xticklabels(x_labels, rotation=45)\n",
    "plt.legend()\n",
    "#plt.savefig(f'RNN/{nama}.jpg') \n",
    "plt.show()"
   ]
  },
  {
   "cell_type": "markdown",
   "metadata": {},
   "source": [
    "## Error"
   ]
  },
  {
   "cell_type": "code",
   "execution_count": 190,
   "metadata": {},
   "outputs": [
    {
     "name": "stdout",
     "output_type": "stream",
     "text": [
      "Error Pred\n",
      "MAPE\t : 9.89317\n",
      "MAE\t : 52.75\n",
      "MSE\t : 4397.14990234375\n",
      "RMSE\t : 66.3110122680664\n",
      "\n"
     ]
    }
   ],
   "source": [
    "print(f\"Error Pred\")\n",
    "print(f\"MAPE\\t : {np.round(mean_absolute_percentage_error(data_predict, dataY_plot)*100,5)}\")\n",
    "print(f\"MAE\\t : {mean_absolute_error(data_predict, dataY_plot)}\")\n",
    "print(f\"MSE\\t : {mean_squared_error(data_predict, dataY_plot)}\")\n",
    "print(f\"RMSE\\t : {np.sqrt(mean_squared_error(data_predict, dataY_plot))}\\n\")"
   ]
  }
 ],
 "metadata": {
  "kernelspec": {
   "display_name": "Python 3",
   "language": "python",
   "name": "python3"
  },
  "language_info": {
   "codemirror_mode": {
    "name": "ipython",
    "version": 3
   },
   "file_extension": ".py",
   "mimetype": "text/x-python",
   "name": "python",
   "nbconvert_exporter": "python",
   "pygments_lexer": "ipython3",
   "version": "3.10.0"
  }
 },
 "nbformat": 4,
 "nbformat_minor": 2
}
